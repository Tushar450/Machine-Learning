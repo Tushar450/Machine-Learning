{
 "cells": [
  {
   "cell_type": "markdown",
   "id": "c8351d25-e3a3-4f6f-9ee8-549482fb6f90",
   "metadata": {},
   "source": [
    "(Assignme- 2)               (Roll- 2301560057)                (Name- Tushar Sharma )                (Subject- Machine Learning)"
   ]
  },
  {
   "cell_type": "markdown",
   "id": "964ff9c0-9963-4cb8-8c36-4697c9d2a9da",
   "metadata": {},
   "source": [
    "Exercise 1: From the given dataset print the first and last five rows"
   ]
  },
  {
   "cell_type": "code",
   "execution_count": 2,
   "id": "870342d2-e016-413d-8810-44bebae43c5f",
   "metadata": {},
   "outputs": [],
   "source": [
    "import pandas as pd\n",
    "df = pd.read_csv(\"Automobile_data.csv\")"
   ]
  },
  {
   "cell_type": "code",
   "execution_count": 3,
   "id": "e3a53580-2fcf-4ffb-abe6-adfba74510a4",
   "metadata": {},
   "outputs": [
    {
     "data": {
      "text/html": [
       "<div>\n",
       "<style scoped>\n",
       "    .dataframe tbody tr th:only-of-type {\n",
       "        vertical-align: middle;\n",
       "    }\n",
       "\n",
       "    .dataframe tbody tr th {\n",
       "        vertical-align: top;\n",
       "    }\n",
       "\n",
       "    .dataframe thead th {\n",
       "        text-align: right;\n",
       "    }\n",
       "</style>\n",
       "<table border=\"1\" class=\"dataframe\">\n",
       "  <thead>\n",
       "    <tr style=\"text-align: right;\">\n",
       "      <th></th>\n",
       "      <th>index</th>\n",
       "      <th>company</th>\n",
       "      <th>body-style</th>\n",
       "      <th>wheel-base</th>\n",
       "      <th>length</th>\n",
       "      <th>engine-type</th>\n",
       "      <th>num-of-cylinders</th>\n",
       "      <th>horsepower</th>\n",
       "      <th>average-mileage</th>\n",
       "      <th>price</th>\n",
       "    </tr>\n",
       "  </thead>\n",
       "  <tbody>\n",
       "    <tr>\n",
       "      <th>0</th>\n",
       "      <td>0</td>\n",
       "      <td>alfa-romero</td>\n",
       "      <td>convertible</td>\n",
       "      <td>88.6</td>\n",
       "      <td>168.8</td>\n",
       "      <td>dohc</td>\n",
       "      <td>four</td>\n",
       "      <td>111</td>\n",
       "      <td>21</td>\n",
       "      <td>13495.0</td>\n",
       "    </tr>\n",
       "    <tr>\n",
       "      <th>1</th>\n",
       "      <td>1</td>\n",
       "      <td>alfa-romero</td>\n",
       "      <td>convertible</td>\n",
       "      <td>88.6</td>\n",
       "      <td>168.8</td>\n",
       "      <td>dohc</td>\n",
       "      <td>four</td>\n",
       "      <td>111</td>\n",
       "      <td>21</td>\n",
       "      <td>16500.0</td>\n",
       "    </tr>\n",
       "    <tr>\n",
       "      <th>2</th>\n",
       "      <td>2</td>\n",
       "      <td>alfa-romero</td>\n",
       "      <td>hatchback</td>\n",
       "      <td>94.5</td>\n",
       "      <td>171.2</td>\n",
       "      <td>ohcv</td>\n",
       "      <td>six</td>\n",
       "      <td>154</td>\n",
       "      <td>19</td>\n",
       "      <td>16500.0</td>\n",
       "    </tr>\n",
       "    <tr>\n",
       "      <th>3</th>\n",
       "      <td>3</td>\n",
       "      <td>audi</td>\n",
       "      <td>sedan</td>\n",
       "      <td>99.8</td>\n",
       "      <td>176.6</td>\n",
       "      <td>ohc</td>\n",
       "      <td>four</td>\n",
       "      <td>102</td>\n",
       "      <td>24</td>\n",
       "      <td>13950.0</td>\n",
       "    </tr>\n",
       "    <tr>\n",
       "      <th>4</th>\n",
       "      <td>4</td>\n",
       "      <td>audi</td>\n",
       "      <td>sedan</td>\n",
       "      <td>99.4</td>\n",
       "      <td>176.6</td>\n",
       "      <td>ohc</td>\n",
       "      <td>five</td>\n",
       "      <td>115</td>\n",
       "      <td>18</td>\n",
       "      <td>17450.0</td>\n",
       "    </tr>\n",
       "  </tbody>\n",
       "</table>\n",
       "</div>"
      ],
      "text/plain": [
       "   index      company   body-style  wheel-base  length engine-type  \\\n",
       "0      0  alfa-romero  convertible        88.6   168.8        dohc   \n",
       "1      1  alfa-romero  convertible        88.6   168.8        dohc   \n",
       "2      2  alfa-romero    hatchback        94.5   171.2        ohcv   \n",
       "3      3         audi        sedan        99.8   176.6         ohc   \n",
       "4      4         audi        sedan        99.4   176.6         ohc   \n",
       "\n",
       "  num-of-cylinders  horsepower  average-mileage    price  \n",
       "0             four         111               21  13495.0  \n",
       "1             four         111               21  16500.0  \n",
       "2              six         154               19  16500.0  \n",
       "3             four         102               24  13950.0  \n",
       "4             five         115               18  17450.0  "
      ]
     },
     "execution_count": 3,
     "metadata": {},
     "output_type": "execute_result"
    }
   ],
   "source": [
    " df.head(5)"
   ]
  },
  {
   "cell_type": "markdown",
   "id": "d0de35bc-dac6-49ce-8481-3718d3119442",
   "metadata": {},
   "source": [
    "Print last five rows"
   ]
  },
  {
   "cell_type": "code",
   "execution_count": 4,
   "id": "e297ca8d-e286-4b27-8743-8ddd4e44553c",
   "metadata": {},
   "outputs": [
    {
     "data": {
      "text/html": [
       "<div>\n",
       "<style scoped>\n",
       "    .dataframe tbody tr th:only-of-type {\n",
       "        vertical-align: middle;\n",
       "    }\n",
       "\n",
       "    .dataframe tbody tr th {\n",
       "        vertical-align: top;\n",
       "    }\n",
       "\n",
       "    .dataframe thead th {\n",
       "        text-align: right;\n",
       "    }\n",
       "</style>\n",
       "<table border=\"1\" class=\"dataframe\">\n",
       "  <thead>\n",
       "    <tr style=\"text-align: right;\">\n",
       "      <th></th>\n",
       "      <th>index</th>\n",
       "      <th>company</th>\n",
       "      <th>body-style</th>\n",
       "      <th>wheel-base</th>\n",
       "      <th>length</th>\n",
       "      <th>engine-type</th>\n",
       "      <th>num-of-cylinders</th>\n",
       "      <th>horsepower</th>\n",
       "      <th>average-mileage</th>\n",
       "      <th>price</th>\n",
       "    </tr>\n",
       "  </thead>\n",
       "  <tbody>\n",
       "    <tr>\n",
       "      <th>56</th>\n",
       "      <td>81</td>\n",
       "      <td>volkswagen</td>\n",
       "      <td>sedan</td>\n",
       "      <td>97.3</td>\n",
       "      <td>171.7</td>\n",
       "      <td>ohc</td>\n",
       "      <td>four</td>\n",
       "      <td>85</td>\n",
       "      <td>27</td>\n",
       "      <td>7975.0</td>\n",
       "    </tr>\n",
       "    <tr>\n",
       "      <th>57</th>\n",
       "      <td>82</td>\n",
       "      <td>volkswagen</td>\n",
       "      <td>sedan</td>\n",
       "      <td>97.3</td>\n",
       "      <td>171.7</td>\n",
       "      <td>ohc</td>\n",
       "      <td>four</td>\n",
       "      <td>52</td>\n",
       "      <td>37</td>\n",
       "      <td>7995.0</td>\n",
       "    </tr>\n",
       "    <tr>\n",
       "      <th>58</th>\n",
       "      <td>86</td>\n",
       "      <td>volkswagen</td>\n",
       "      <td>sedan</td>\n",
       "      <td>97.3</td>\n",
       "      <td>171.7</td>\n",
       "      <td>ohc</td>\n",
       "      <td>four</td>\n",
       "      <td>100</td>\n",
       "      <td>26</td>\n",
       "      <td>9995.0</td>\n",
       "    </tr>\n",
       "    <tr>\n",
       "      <th>59</th>\n",
       "      <td>87</td>\n",
       "      <td>volvo</td>\n",
       "      <td>sedan</td>\n",
       "      <td>104.3</td>\n",
       "      <td>188.8</td>\n",
       "      <td>ohc</td>\n",
       "      <td>four</td>\n",
       "      <td>114</td>\n",
       "      <td>23</td>\n",
       "      <td>12940.0</td>\n",
       "    </tr>\n",
       "    <tr>\n",
       "      <th>60</th>\n",
       "      <td>88</td>\n",
       "      <td>volvo</td>\n",
       "      <td>wagon</td>\n",
       "      <td>104.3</td>\n",
       "      <td>188.8</td>\n",
       "      <td>ohc</td>\n",
       "      <td>four</td>\n",
       "      <td>114</td>\n",
       "      <td>23</td>\n",
       "      <td>13415.0</td>\n",
       "    </tr>\n",
       "  </tbody>\n",
       "</table>\n",
       "</div>"
      ],
      "text/plain": [
       "    index     company body-style  wheel-base  length engine-type  \\\n",
       "56     81  volkswagen      sedan        97.3   171.7         ohc   \n",
       "57     82  volkswagen      sedan        97.3   171.7         ohc   \n",
       "58     86  volkswagen      sedan        97.3   171.7         ohc   \n",
       "59     87       volvo      sedan       104.3   188.8         ohc   \n",
       "60     88       volvo      wagon       104.3   188.8         ohc   \n",
       "\n",
       "   num-of-cylinders  horsepower  average-mileage    price  \n",
       "56             four          85               27   7975.0  \n",
       "57             four          52               37   7995.0  \n",
       "58             four         100               26   9995.0  \n",
       "59             four         114               23  12940.0  \n",
       "60             four         114               23  13415.0  "
      ]
     },
     "execution_count": 4,
     "metadata": {},
     "output_type": "execute_result"
    }
   ],
   "source": [
    " df.tail(5)"
   ]
  },
  {
   "cell_type": "markdown",
   "id": "210c3192-f019-4181-b2e2-d6ceaa662887",
   "metadata": {},
   "source": [
    "Exercise 2: Clean the dataset and update the CSV file\n",
    "Replace all column values which contain ?, n.a, or NaN.ains 12-15 MCQ\r\n",
    "Exercises Quizzes\r\n",
    "\r\n",
    "\r\n",
    "\r\n",
    "\r\n",
    "Posted In\r\n",
    "\r\n",
    "Pandas Python Python Exercises"
   ]
  },
  {
   "cell_type": "code",
   "execution_count": 6,
   "id": "b31f894b-a211-4951-9241-905caf746304",
   "metadata": {},
   "outputs": [
    {
     "name": "stdout",
     "output_type": "stream",
     "text": [
      "    index      company   body-style  wheel-base  length engine-type  \\\n",
      "0       0  alfa-romero  convertible        88.6   168.8        dohc   \n",
      "1       1  alfa-romero  convertible        88.6   168.8        dohc   \n",
      "2       2  alfa-romero    hatchback        94.5   171.2        ohcv   \n",
      "3       3         audi        sedan        99.8   176.6         ohc   \n",
      "4       4         audi        sedan        99.4   176.6         ohc   \n",
      "..    ...          ...          ...         ...     ...         ...   \n",
      "56     81   volkswagen        sedan        97.3   171.7         ohc   \n",
      "57     82   volkswagen        sedan        97.3   171.7         ohc   \n",
      "58     86   volkswagen        sedan        97.3   171.7         ohc   \n",
      "59     87        volvo        sedan       104.3   188.8         ohc   \n",
      "60     88        volvo        wagon       104.3   188.8         ohc   \n",
      "\n",
      "   num-of-cylinders  horsepower  average-mileage    price  \n",
      "0              four         111               21  13495.0  \n",
      "1              four         111               21  16500.0  \n",
      "2               six         154               19  16500.0  \n",
      "3              four         102               24  13950.0  \n",
      "4              five         115               18  17450.0  \n",
      "..              ...         ...              ...      ...  \n",
      "56             four          85               27   7975.0  \n",
      "57             four          52               37   7995.0  \n",
      "58             four         100               26   9995.0  \n",
      "59             four         114               23  12940.0  \n",
      "60             four         114               23  13415.0  \n",
      "\n",
      "[61 rows x 10 columns]\n"
     ]
    }
   ],
   "source": [
    "df = pd.read_csv(\"Automobile_data.csv\", na_values={\n",
    "'price':[\"?\",\"n.a\"],\n",
    "'stroke':[\"?\",\"n.a\"],\n",
    "'horsepower':[\"?\",\"n.a\"],\n",
    "'peak-rpm':[\"?\",\"n.a\"],\n",
    "'average-mileage':[\"?\",\"n.a\"]})\n",
    "print (df)\n",
    "\n",
    "df.to_csv(\"Automobile_data.csv\")"
   ]
  },
  {
   "cell_type": "markdown",
   "id": "291bd7b3-0a87-4a7c-a5b9-898fa62c495f",
   "metadata": {},
   "source": [
    "Exercise 3: Find the most expensive car company name"
   ]
  },
  {
   "cell_type": "code",
   "execution_count": 7,
   "id": "c4b412c6-6d0f-473b-b313-9ea5650e3907",
   "metadata": {},
   "outputs": [
    {
     "data": {
      "text/html": [
       "<div>\n",
       "<style scoped>\n",
       "    .dataframe tbody tr th:only-of-type {\n",
       "        vertical-align: middle;\n",
       "    }\n",
       "\n",
       "    .dataframe tbody tr th {\n",
       "        vertical-align: top;\n",
       "    }\n",
       "\n",
       "    .dataframe thead th {\n",
       "        text-align: right;\n",
       "    }\n",
       "</style>\n",
       "<table border=\"1\" class=\"dataframe\">\n",
       "  <thead>\n",
       "    <tr style=\"text-align: right;\">\n",
       "      <th></th>\n",
       "      <th>company</th>\n",
       "      <th>price</th>\n",
       "    </tr>\n",
       "  </thead>\n",
       "  <tbody>\n",
       "    <tr>\n",
       "      <th>35</th>\n",
       "      <td>mercedes-benz</td>\n",
       "      <td>45400.0</td>\n",
       "    </tr>\n",
       "  </tbody>\n",
       "</table>\n",
       "</div>"
      ],
      "text/plain": [
       "          company    price\n",
       "35  mercedes-benz  45400.0"
      ]
     },
     "execution_count": 7,
     "metadata": {},
     "output_type": "execute_result"
    }
   ],
   "source": [
    "df = df [['company','price']][df.price==df['price'].max()]\n",
    "df"
   ]
  },
  {
   "cell_type": "markdown",
   "id": "98a7fcca-4be9-46ed-9c60-87f0ab5dfe6e",
   "metadata": {},
   "source": [
    "Exercise 4: Print All Toyota Cars details=df['price'].max()]\r\n",
    "df\r\n",
    "Exercise 4: Print All Toyota Cars details=df['price'].max()]\r\n",
    "df\r\n",
    "Exercise 4: Print All Toyota Cars details=df['price'].max()]\r\n",
    "df\r\n",
    "Exercise 4: Print All Toyota Cars details"
   ]
  },
  {
   "cell_type": "code",
   "execution_count": 9,
   "id": "07dd1017-431f-4099-b05b-2a3e3f667440",
   "metadata": {},
   "outputs": [
    {
     "data": {
      "text/html": [
       "<div>\n",
       "<style scoped>\n",
       "    .dataframe tbody tr th:only-of-type {\n",
       "        vertical-align: middle;\n",
       "    }\n",
       "\n",
       "    .dataframe tbody tr th {\n",
       "        vertical-align: top;\n",
       "    }\n",
       "\n",
       "    .dataframe thead th {\n",
       "        text-align: right;\n",
       "    }\n",
       "</style>\n",
       "<table border=\"1\" class=\"dataframe\">\n",
       "  <thead>\n",
       "    <tr style=\"text-align: right;\">\n",
       "      <th></th>\n",
       "      <th>Unnamed: 0</th>\n",
       "      <th>index</th>\n",
       "      <th>company</th>\n",
       "      <th>body-style</th>\n",
       "      <th>wheel-base</th>\n",
       "      <th>length</th>\n",
       "      <th>engine-type</th>\n",
       "      <th>num-of-cylinders</th>\n",
       "      <th>horsepower</th>\n",
       "      <th>average-mileage</th>\n",
       "      <th>price</th>\n",
       "    </tr>\n",
       "  </thead>\n",
       "  <tbody>\n",
       "    <tr>\n",
       "      <th>48</th>\n",
       "      <td>48</td>\n",
       "      <td>66</td>\n",
       "      <td>toyota</td>\n",
       "      <td>hatchback</td>\n",
       "      <td>95.7</td>\n",
       "      <td>158.7</td>\n",
       "      <td>ohc</td>\n",
       "      <td>four</td>\n",
       "      <td>62</td>\n",
       "      <td>35</td>\n",
       "      <td>5348.0</td>\n",
       "    </tr>\n",
       "    <tr>\n",
       "      <th>49</th>\n",
       "      <td>49</td>\n",
       "      <td>67</td>\n",
       "      <td>toyota</td>\n",
       "      <td>hatchback</td>\n",
       "      <td>95.7</td>\n",
       "      <td>158.7</td>\n",
       "      <td>ohc</td>\n",
       "      <td>four</td>\n",
       "      <td>62</td>\n",
       "      <td>31</td>\n",
       "      <td>6338.0</td>\n",
       "    </tr>\n",
       "    <tr>\n",
       "      <th>50</th>\n",
       "      <td>50</td>\n",
       "      <td>68</td>\n",
       "      <td>toyota</td>\n",
       "      <td>hatchback</td>\n",
       "      <td>95.7</td>\n",
       "      <td>158.7</td>\n",
       "      <td>ohc</td>\n",
       "      <td>four</td>\n",
       "      <td>62</td>\n",
       "      <td>31</td>\n",
       "      <td>6488.0</td>\n",
       "    </tr>\n",
       "    <tr>\n",
       "      <th>51</th>\n",
       "      <td>51</td>\n",
       "      <td>69</td>\n",
       "      <td>toyota</td>\n",
       "      <td>wagon</td>\n",
       "      <td>95.7</td>\n",
       "      <td>169.7</td>\n",
       "      <td>ohc</td>\n",
       "      <td>four</td>\n",
       "      <td>62</td>\n",
       "      <td>31</td>\n",
       "      <td>6918.0</td>\n",
       "    </tr>\n",
       "    <tr>\n",
       "      <th>52</th>\n",
       "      <td>52</td>\n",
       "      <td>70</td>\n",
       "      <td>toyota</td>\n",
       "      <td>wagon</td>\n",
       "      <td>95.7</td>\n",
       "      <td>169.7</td>\n",
       "      <td>ohc</td>\n",
       "      <td>four</td>\n",
       "      <td>62</td>\n",
       "      <td>27</td>\n",
       "      <td>7898.0</td>\n",
       "    </tr>\n",
       "    <tr>\n",
       "      <th>53</th>\n",
       "      <td>53</td>\n",
       "      <td>71</td>\n",
       "      <td>toyota</td>\n",
       "      <td>wagon</td>\n",
       "      <td>95.7</td>\n",
       "      <td>169.7</td>\n",
       "      <td>ohc</td>\n",
       "      <td>four</td>\n",
       "      <td>62</td>\n",
       "      <td>27</td>\n",
       "      <td>8778.0</td>\n",
       "    </tr>\n",
       "    <tr>\n",
       "      <th>54</th>\n",
       "      <td>54</td>\n",
       "      <td>79</td>\n",
       "      <td>toyota</td>\n",
       "      <td>wagon</td>\n",
       "      <td>104.5</td>\n",
       "      <td>187.8</td>\n",
       "      <td>dohc</td>\n",
       "      <td>six</td>\n",
       "      <td>156</td>\n",
       "      <td>19</td>\n",
       "      <td>15750.0</td>\n",
       "    </tr>\n",
       "  </tbody>\n",
       "</table>\n",
       "</div>"
      ],
      "text/plain": [
       "    Unnamed: 0  index company body-style  wheel-base  length engine-type  \\\n",
       "48          48     66  toyota  hatchback        95.7   158.7         ohc   \n",
       "49          49     67  toyota  hatchback        95.7   158.7         ohc   \n",
       "50          50     68  toyota  hatchback        95.7   158.7         ohc   \n",
       "51          51     69  toyota      wagon        95.7   169.7         ohc   \n",
       "52          52     70  toyota      wagon        95.7   169.7         ohc   \n",
       "53          53     71  toyota      wagon        95.7   169.7         ohc   \n",
       "54          54     79  toyota      wagon       104.5   187.8        dohc   \n",
       "\n",
       "   num-of-cylinders  horsepower  average-mileage    price  \n",
       "48             four          62               35   5348.0  \n",
       "49             four          62               31   6338.0  \n",
       "50             four          62               31   6488.0  \n",
       "51             four          62               31   6918.0  \n",
       "52             four          62               27   7898.0  \n",
       "53             four          62               27   8778.0  \n",
       "54              six         156               19  15750.0  "
      ]
     },
     "execution_count": 9,
     "metadata": {},
     "output_type": "execute_result"
    }
   ],
   "source": [
    "import pandas as pd\n",
    "df = pd.read_csv(\"Automobile_data.csv\")\n",
    "car_Manufacturers = df.groupby('company')\n",
    "toyotaDf = car_Manufacturers.get_group('toyota')\n",
    "toyotaDf"
   ]
  },
  {
   "cell_type": "markdown",
   "id": "d44d5795-00d1-4b3a-9244-55d8609e878a",
   "metadata": {},
   "source": [
    "Exercise 5: Count total cars per company"
   ]
  },
  {
   "cell_type": "code",
   "execution_count": 10,
   "id": "450985ac-ef16-44d5-a6ab-955559ab6139",
   "metadata": {},
   "outputs": [
    {
     "data": {
      "text/plain": [
       "company\n",
       "toyota           7\n",
       "bmw              6\n",
       "mazda            5\n",
       "nissan           5\n",
       "audi             4\n",
       "mercedes-benz    4\n",
       "mitsubishi       4\n",
       "volkswagen       4\n",
       "alfa-romero      3\n",
       "chevrolet        3\n",
       "honda            3\n",
       "isuzu            3\n",
       "jaguar           3\n",
       "porsche          3\n",
       "dodge            2\n",
       "volvo            2\n",
       "Name: count, dtype: int64"
      ]
     },
     "execution_count": 10,
     "metadata": {},
     "output_type": "execute_result"
    }
   ],
   "source": [
    "df['company'].value_counts()"
   ]
  },
  {
   "cell_type": "markdown",
   "id": "ebab9894-bf8b-4e2f-b337-7d254e8a3438",
   "metadata": {},
   "source": [
    "Exercise 6: Find each company’s Higesht price car"
   ]
  },
  {
   "cell_type": "markdown",
   "id": "1c0a3d88-a30c-4a38-89c5-5eedcc461c03",
   "metadata": {},
   "source": [
    "Exercise 7: Find the average mileage of each car making companycompany','price'].max()\r\n",
    "priceDf\r\n",
    "Exercise 7: Find the average mileage of each car making company"
   ]
  },
  {
   "cell_type": "code",
   "execution_count": 18,
   "id": "dbaa4be4-8116-4fc6-8ad7-41ce9836ad4e",
   "metadata": {},
   "outputs": [],
   "source": [
    "import pandas as pd\n",
    "df = pd.read_csv(\"Automobile_data.csv\")\n",
    "car_Manufacturers = df.groupby('company')"
   ]
  },
  {
   "cell_type": "markdown",
   "id": "2d171b5b-2bcc-4b5f-9a26-b0c9422faccd",
   "metadata": {},
   "source": [
    "Exercise 8: Sort all cars by Price column"
   ]
  },
  {
   "cell_type": "code",
   "execution_count": 28,
   "id": "a6cb6787-a3f9-4d42-bc83-cb7d776645a9",
   "metadata": {},
   "outputs": [
    {
     "data": {
      "text/html": [
       "<div>\n",
       "<style scoped>\n",
       "    .dataframe tbody tr th:only-of-type {\n",
       "        vertical-align: middle;\n",
       "    }\n",
       "\n",
       "    .dataframe tbody tr th {\n",
       "        vertical-align: top;\n",
       "    }\n",
       "\n",
       "    .dataframe thead th {\n",
       "        text-align: right;\n",
       "    }\n",
       "</style>\n",
       "<table border=\"1\" class=\"dataframe\">\n",
       "  <thead>\n",
       "    <tr style=\"text-align: right;\">\n",
       "      <th></th>\n",
       "      <th>Unnamed: 0</th>\n",
       "      <th>index</th>\n",
       "      <th>company</th>\n",
       "      <th>body-style</th>\n",
       "      <th>wheel-base</th>\n",
       "      <th>length</th>\n",
       "      <th>engine-type</th>\n",
       "      <th>num-of-cylinders</th>\n",
       "      <th>horsepower</th>\n",
       "      <th>average-mileage</th>\n",
       "      <th>price</th>\n",
       "    </tr>\n",
       "  </thead>\n",
       "  <tbody>\n",
       "    <tr>\n",
       "      <th>35</th>\n",
       "      <td>35</td>\n",
       "      <td>47</td>\n",
       "      <td>mercedes-benz</td>\n",
       "      <td>hardtop</td>\n",
       "      <td>112.0</td>\n",
       "      <td>199.2</td>\n",
       "      <td>ohcv</td>\n",
       "      <td>eight</td>\n",
       "      <td>184</td>\n",
       "      <td>14</td>\n",
       "      <td>45400.0</td>\n",
       "    </tr>\n",
       "    <tr>\n",
       "      <th>11</th>\n",
       "      <td>11</td>\n",
       "      <td>14</td>\n",
       "      <td>bmw</td>\n",
       "      <td>sedan</td>\n",
       "      <td>103.5</td>\n",
       "      <td>193.8</td>\n",
       "      <td>ohc</td>\n",
       "      <td>six</td>\n",
       "      <td>182</td>\n",
       "      <td>16</td>\n",
       "      <td>41315.0</td>\n",
       "    </tr>\n",
       "    <tr>\n",
       "      <th>34</th>\n",
       "      <td>34</td>\n",
       "      <td>46</td>\n",
       "      <td>mercedes-benz</td>\n",
       "      <td>sedan</td>\n",
       "      <td>120.9</td>\n",
       "      <td>208.1</td>\n",
       "      <td>ohcv</td>\n",
       "      <td>eight</td>\n",
       "      <td>184</td>\n",
       "      <td>14</td>\n",
       "      <td>40960.0</td>\n",
       "    </tr>\n",
       "    <tr>\n",
       "      <th>46</th>\n",
       "      <td>46</td>\n",
       "      <td>62</td>\n",
       "      <td>porsche</td>\n",
       "      <td>convertible</td>\n",
       "      <td>89.5</td>\n",
       "      <td>168.9</td>\n",
       "      <td>ohcf</td>\n",
       "      <td>six</td>\n",
       "      <td>207</td>\n",
       "      <td>17</td>\n",
       "      <td>37028.0</td>\n",
       "    </tr>\n",
       "    <tr>\n",
       "      <th>12</th>\n",
       "      <td>12</td>\n",
       "      <td>15</td>\n",
       "      <td>bmw</td>\n",
       "      <td>sedan</td>\n",
       "      <td>110.0</td>\n",
       "      <td>197.0</td>\n",
       "      <td>ohc</td>\n",
       "      <td>six</td>\n",
       "      <td>182</td>\n",
       "      <td>15</td>\n",
       "      <td>36880.0</td>\n",
       "    </tr>\n",
       "  </tbody>\n",
       "</table>\n",
       "</div>"
      ],
      "text/plain": [
       "    Unnamed: 0  index        company   body-style  wheel-base  length  \\\n",
       "35          35     47  mercedes-benz      hardtop       112.0   199.2   \n",
       "11          11     14            bmw        sedan       103.5   193.8   \n",
       "34          34     46  mercedes-benz        sedan       120.9   208.1   \n",
       "46          46     62        porsche  convertible        89.5   168.9   \n",
       "12          12     15            bmw        sedan       110.0   197.0   \n",
       "\n",
       "   engine-type num-of-cylinders  horsepower  average-mileage    price  \n",
       "35        ohcv            eight         184               14  45400.0  \n",
       "11         ohc              six         182               16  41315.0  \n",
       "34        ohcv            eight         184               14  40960.0  \n",
       "46        ohcf              six         207               17  37028.0  \n",
       "12         ohc              six         182               15  36880.0  "
      ]
     },
     "execution_count": 28,
     "metadata": {},
     "output_type": "execute_result"
    }
   ],
   "source": [
    "import pandas as pd\n",
    "carsDf = pd.read_csv(\"Automobile_data.csv\")\n",
    "carsDf = carsDf.sort_values(by=['price', 'horsepower'], ascending=False)\n",
    "carsDf.head(5)"
   ]
  },
  {
   "cell_type": "markdown",
   "id": "e4cde911-2895-4c57-9779-aaa8a7c5a61e",
   "metadata": {},
   "source": [
    "Exercise 9: Concatenate two data frames using the following conditions"
   ]
  },
  {
   "cell_type": "code",
   "execution_count": 29,
   "id": "fdf8a345-23c8-4874-a084-0c32df223c92",
   "metadata": {},
   "outputs": [],
   "source": [
    "GermanCars = {'Company': ['Ford', 'Mercedes', 'BMV', 'Audi'], 'Price': [23845, 171995, 135925 , 71400]}\n",
    "japaneseCars = {'Company': ['Toyota', 'Honda', 'Nissan', 'Mitsubishi '], 'Price': [29995, 23600, 61500 , 58900]}"
   ]
  },
  {
   "cell_type": "markdown",
   "id": "e178ac61-0cfd-4e3e-bce9-c64b0c1214f3",
   "metadata": {},
   "source": [
    "Python Pandas concatenate two data frames and create a key for each data frame"
   ]
  },
  {
   "cell_type": "code",
   "execution_count": 30,
   "id": "e85fc02d-6f2e-4ca4-b1fc-bdf93b3c9838",
   "metadata": {},
   "outputs": [
    {
     "data": {
      "text/html": [
       "<div>\n",
       "<style scoped>\n",
       "    .dataframe tbody tr th:only-of-type {\n",
       "        vertical-align: middle;\n",
       "    }\n",
       "\n",
       "    .dataframe tbody tr th {\n",
       "        vertical-align: top;\n",
       "    }\n",
       "\n",
       "    .dataframe thead th {\n",
       "        text-align: right;\n",
       "    }\n",
       "</style>\n",
       "<table border=\"1\" class=\"dataframe\">\n",
       "  <thead>\n",
       "    <tr style=\"text-align: right;\">\n",
       "      <th></th>\n",
       "      <th></th>\n",
       "      <th>Company</th>\n",
       "      <th>Price</th>\n",
       "    </tr>\n",
       "  </thead>\n",
       "  <tbody>\n",
       "    <tr>\n",
       "      <th rowspan=\"4\" valign=\"top\">Germany</th>\n",
       "      <th>0</th>\n",
       "      <td>Ford</td>\n",
       "      <td>23845</td>\n",
       "    </tr>\n",
       "    <tr>\n",
       "      <th>1</th>\n",
       "      <td>Mercedes</td>\n",
       "      <td>171995</td>\n",
       "    </tr>\n",
       "    <tr>\n",
       "      <th>2</th>\n",
       "      <td>BMV</td>\n",
       "      <td>135925</td>\n",
       "    </tr>\n",
       "    <tr>\n",
       "      <th>3</th>\n",
       "      <td>Audi</td>\n",
       "      <td>71400</td>\n",
       "    </tr>\n",
       "    <tr>\n",
       "      <th rowspan=\"4\" valign=\"top\">Japan</th>\n",
       "      <th>0</th>\n",
       "      <td>Toyota</td>\n",
       "      <td>29995</td>\n",
       "    </tr>\n",
       "    <tr>\n",
       "      <th>1</th>\n",
       "      <td>Honda</td>\n",
       "      <td>23600</td>\n",
       "    </tr>\n",
       "    <tr>\n",
       "      <th>2</th>\n",
       "      <td>Nissan</td>\n",
       "      <td>61500</td>\n",
       "    </tr>\n",
       "    <tr>\n",
       "      <th>3</th>\n",
       "      <td>Mitsubishi</td>\n",
       "      <td>58900</td>\n",
       "    </tr>\n",
       "  </tbody>\n",
       "</table>\n",
       "</div>"
      ],
      "text/plain": [
       "               Company   Price\n",
       "Germany 0         Ford   23845\n",
       "        1     Mercedes  171995\n",
       "        2          BMV  135925\n",
       "        3         Audi   71400\n",
       "Japan   0       Toyota   29995\n",
       "        1        Honda   23600\n",
       "        2       Nissan   61500\n",
       "        3  Mitsubishi    58900"
      ]
     },
     "execution_count": 30,
     "metadata": {},
     "output_type": "execute_result"
    }
   ],
   "source": [
    "GermanCars = {'Company': ['Ford', 'Mercedes', 'BMV', 'Audi'], 'Price': [23845, 171995, 135925 , 71400]}\n",
    "carsDf1 = pd.DataFrame.from_dict(GermanCars)\n",
    "\n",
    "japaneseCars = {'Company': ['Toyota', 'Honda', 'Nissan', 'Mitsubishi '], 'Price': [29995, 23600, 61500 , 58900]}\n",
    "carsDf2 = pd.DataFrame.from_dict(japaneseCars)\n",
    "\n",
    "carsDf = pd.concat([carsDf1, carsDf2], keys=[\"Germany\", \"Japan\"])\n",
    "carsDf"
   ]
  },
  {
   "cell_type": "markdown",
   "id": "98bf17ef-f82a-4873-9ccd-6596b551a170",
   "metadata": {},
   "source": [
    "Exercise 10: Merge two data frames using the following condition.\n",
    "Create two data frames using the following two Dicts, Merge two data frames, and append the second data frame as a new column to the first data frame."
   ]
  },
  {
   "cell_type": "code",
   "execution_count": 31,
   "id": "c42075e8-2f25-4e89-8919-cd51bcccaf80",
   "metadata": {},
   "outputs": [],
   "source": [
    "Car_Price = {'Company': ['Toyota', 'Honda', 'BMV', 'Audi'], 'Price': [23845, 17995, 135925 , 71400]}\n",
    "car_Horsepower = {'Company': ['Toyota', 'Honda', 'BMV', 'Audi'], 'horsepower': [141, 80, 182 , 160]}"
   ]
  },
  {
   "cell_type": "markdown",
   "id": "7d2a9b63-ef05-455d-a786-6bb8fe0cc9b4",
   "metadata": {},
   "source": [
    "Python Pandas merge two data frames and append new data frame as a new column"
   ]
  },
  {
   "cell_type": "code",
   "execution_count": 32,
   "id": "396168f2-2138-4bc4-b18b-918b42bd5a91",
   "metadata": {},
   "outputs": [
    {
     "data": {
      "text/html": [
       "<div>\n",
       "<style scoped>\n",
       "    .dataframe tbody tr th:only-of-type {\n",
       "        vertical-align: middle;\n",
       "    }\n",
       "\n",
       "    .dataframe tbody tr th {\n",
       "        vertical-align: top;\n",
       "    }\n",
       "\n",
       "    .dataframe thead th {\n",
       "        text-align: right;\n",
       "    }\n",
       "</style>\n",
       "<table border=\"1\" class=\"dataframe\">\n",
       "  <thead>\n",
       "    <tr style=\"text-align: right;\">\n",
       "      <th></th>\n",
       "      <th>Company</th>\n",
       "      <th>Price</th>\n",
       "      <th>horsepower</th>\n",
       "    </tr>\n",
       "  </thead>\n",
       "  <tbody>\n",
       "    <tr>\n",
       "      <th>0</th>\n",
       "      <td>Toyota</td>\n",
       "      <td>23845</td>\n",
       "      <td>141</td>\n",
       "    </tr>\n",
       "    <tr>\n",
       "      <th>1</th>\n",
       "      <td>Honda</td>\n",
       "      <td>17995</td>\n",
       "      <td>80</td>\n",
       "    </tr>\n",
       "    <tr>\n",
       "      <th>2</th>\n",
       "      <td>BMV</td>\n",
       "      <td>135925</td>\n",
       "      <td>182</td>\n",
       "    </tr>\n",
       "    <tr>\n",
       "      <th>3</th>\n",
       "      <td>Audi</td>\n",
       "      <td>71400</td>\n",
       "      <td>160</td>\n",
       "    </tr>\n",
       "  </tbody>\n",
       "</table>\n",
       "</div>"
      ],
      "text/plain": [
       "  Company   Price  horsepower\n",
       "0  Toyota   23845         141\n",
       "1   Honda   17995          80\n",
       "2     BMV  135925         182\n",
       "3    Audi   71400         160"
      ]
     },
     "execution_count": 32,
     "metadata": {},
     "output_type": "execute_result"
    }
   ],
   "source": [
    "Car_Price = {'Company': ['Toyota', 'Honda', 'BMV', 'Audi'], 'Price': [23845, 17995, 135925 , 71400]}\n",
    "carPriceDf = pd.DataFrame.from_dict(Car_Price)\n",
    "\n",
    "car_Horsepower = {'Company': ['Toyota', 'Honda', 'BMV', 'Audi'], 'horsepower': [141, 80, 182 , 160]}\n",
    "carsHorsepowerDf = pd.DataFrame.from_dict(car_Horsepower)\n",
    "\n",
    "carsDf = pd.merge(carPriceDf, carsHorsepowerDf, on=\"Company\")\n",
    "carsDf"
   ]
  },
  {
   "cell_type": "markdown",
   "id": "c99674f3-c0cc-403d-85cd-c3f368dbe07c",
   "metadata": {},
   "source": [
    "2-Do the practice questions on pandas from the following kagle instance and create a single Python file:"
   ]
  },
  {
   "cell_type": "code",
   "execution_count": 33,
   "id": "ef75f03f-4a0c-4ad8-a766-77c87af3096d",
   "metadata": {},
   "outputs": [],
   "source": [
    "import pandas as pd\n",
    "\n",
    "data = {\n",
    "    'Product_ID': [101, 102, 103, 104, 105],\n",
    "    'Product_Name': ['iPhone', 'MacBook Pro', 'iPad', 'Apple Watch', 'AirPods'],\n",
    "    'Release_Year': ['2020', '2019', '2018', '2021', '2019'],\n",
    "    'Price ($)': [999, 1299, 329, 399, 159],\n",
    "    'Units_Sold_Millions': ['75', '20', '40', '25', '30']\n",
    "}\n",
    "\n",
    "apple_df = pd.DataFrame(data)"
   ]
  },
  {
   "cell_type": "code",
   "execution_count": 34,
   "id": "a71687ac-a457-488f-a0a0-d2e6294300ee",
   "metadata": {},
   "outputs": [
    {
     "data": {
      "text/html": [
       "<div>\n",
       "<style scoped>\n",
       "    .dataframe tbody tr th:only-of-type {\n",
       "        vertical-align: middle;\n",
       "    }\n",
       "\n",
       "    .dataframe tbody tr th {\n",
       "        vertical-align: top;\n",
       "    }\n",
       "\n",
       "    .dataframe thead th {\n",
       "        text-align: right;\n",
       "    }\n",
       "</style>\n",
       "<table border=\"1\" class=\"dataframe\">\n",
       "  <thead>\n",
       "    <tr style=\"text-align: right;\">\n",
       "      <th></th>\n",
       "      <th>Product_ID</th>\n",
       "      <th>Product_Name</th>\n",
       "      <th>Release_Year</th>\n",
       "      <th>Price ($)</th>\n",
       "      <th>Units_Sold_Millions</th>\n",
       "    </tr>\n",
       "  </thead>\n",
       "  <tbody>\n",
       "    <tr>\n",
       "      <th>0</th>\n",
       "      <td>101</td>\n",
       "      <td>iPhone</td>\n",
       "      <td>2020</td>\n",
       "      <td>999</td>\n",
       "      <td>75</td>\n",
       "    </tr>\n",
       "    <tr>\n",
       "      <th>1</th>\n",
       "      <td>102</td>\n",
       "      <td>MacBook Pro</td>\n",
       "      <td>2019</td>\n",
       "      <td>1299</td>\n",
       "      <td>20</td>\n",
       "    </tr>\n",
       "    <tr>\n",
       "      <th>2</th>\n",
       "      <td>103</td>\n",
       "      <td>iPad</td>\n",
       "      <td>2018</td>\n",
       "      <td>329</td>\n",
       "      <td>40</td>\n",
       "    </tr>\n",
       "    <tr>\n",
       "      <th>3</th>\n",
       "      <td>104</td>\n",
       "      <td>Apple Watch</td>\n",
       "      <td>2021</td>\n",
       "      <td>399</td>\n",
       "      <td>25</td>\n",
       "    </tr>\n",
       "    <tr>\n",
       "      <th>4</th>\n",
       "      <td>105</td>\n",
       "      <td>AirPods</td>\n",
       "      <td>2019</td>\n",
       "      <td>159</td>\n",
       "      <td>30</td>\n",
       "    </tr>\n",
       "  </tbody>\n",
       "</table>\n",
       "</div>"
      ],
      "text/plain": [
       "   Product_ID Product_Name Release_Year  Price ($) Units_Sold_Millions\n",
       "0         101       iPhone         2020        999                  75\n",
       "1         102  MacBook Pro         2019       1299                  20\n",
       "2         103         iPad         2018        329                  40\n",
       "3         104  Apple Watch         2021        399                  25\n",
       "4         105      AirPods         2019        159                  30"
      ]
     },
     "execution_count": 34,
     "metadata": {},
     "output_type": "execute_result"
    }
   ],
   "source": [
    "apple_df"
   ]
  },
  {
   "cell_type": "code",
   "execution_count": 35,
   "id": "67b0bc4b-d3a4-46e9-bd9c-768c60e33f53",
   "metadata": {},
   "outputs": [
    {
     "data": {
      "text/plain": [
       "Product_ID              int64\n",
       "Product_Name           object\n",
       "Release_Year           object\n",
       "Price ($)               int64\n",
       "Units_Sold_Millions    object\n",
       "dtype: object"
      ]
     },
     "execution_count": 35,
     "metadata": {},
     "output_type": "execute_result"
    }
   ],
   "source": [
    "apple_df.dtypes"
   ]
  },
  {
   "cell_type": "markdown",
   "id": "70e75bc4-f2e8-45cf-9d56-7168defc47a0",
   "metadata": {},
   "source": [
    "How would you convert the 'Release_Year' column from string type to integer type?"
   ]
  },
  {
   "cell_type": "code",
   "execution_count": 37,
   "id": "547ca11b-eb00-473d-94eb-1d458fc882fc",
   "metadata": {},
   "outputs": [
    {
     "data": {
      "text/plain": [
       "Product_ID              int64\n",
       "Product_Name           object\n",
       "Release_Year            int64\n",
       "Price ($)               int64\n",
       "Units_Sold_Millions    object\n",
       "dtype: object"
      ]
     },
     "execution_count": 37,
     "metadata": {},
     "output_type": "execute_result"
    }
   ],
   "source": [
    "apple_df.astype({'Release_Year': 'int64'}).dtypes"
   ]
  },
  {
   "cell_type": "markdown",
   "id": "7d866c30-50b7-43be-a3ab-bf9e80a2b827",
   "metadata": {},
   "source": [
    "apple_df.astype({'Release_Year': 'int64'}).dtypes"
   ]
  },
  {
   "cell_type": "code",
   "execution_count": 38,
   "id": "b6aedaec-cfde-473e-92e8-7f046f78e76b",
   "metadata": {},
   "outputs": [
    {
     "data": {
      "text/plain": [
       "Product_ID               int64\n",
       "Product_Name            object\n",
       "Release_Year            object\n",
       "Price ($)              float64\n",
       "Units_Sold_Millions     object\n",
       "dtype: object"
      ]
     },
     "execution_count": 38,
     "metadata": {},
     "output_type": "execute_result"
    }
   ],
   "source": [
    "apple_df.astype({'Price ($)': 'float64'}).dtypes"
   ]
  },
  {
   "cell_type": "markdown",
   "id": "cb849341-bfac-4c47-b242-097fb0368577",
   "metadata": {},
   "source": [
    "How can you change the 'Units_Sold_Millions' column from string to integer data type?"
   ]
  },
  {
   "cell_type": "code",
   "execution_count": 39,
   "id": "8be36937-4463-4a60-bc0e-be7379bb07ca",
   "metadata": {},
   "outputs": [
    {
     "data": {
      "text/plain": [
       "Product_ID              int64\n",
       "Product_Name           object\n",
       "Release_Year           object\n",
       "Price ($)               int64\n",
       "Units_Sold_Millions     int64\n",
       "dtype: object"
      ]
     },
     "execution_count": 39,
     "metadata": {},
     "output_type": "execute_result"
    }
   ],
   "source": [
    "apple_df.astype({'Units_Sold_Millions': 'int64'}).dtypes"
   ]
  },
  {
   "cell_type": "markdown",
   "id": "ca85adab-5e6c-42fc-afcb-171d59e96999",
   "metadata": {},
   "source": [
    "pandas between method"
   ]
  },
  {
   "cell_type": "code",
   "execution_count": 40,
   "id": "0eaaa966-6466-43d9-a789-9761249c780f",
   "metadata": {},
   "outputs": [],
   "source": [
    "import pandas as pd\n",
    "import datetime"
   ]
  },
  {
   "cell_type": "code",
   "execution_count": 41,
   "id": "0b9062cf-9328-49d3-a435-8cd7e6df5af4",
   "metadata": {},
   "outputs": [],
   "source": [
    "from random import randint"
   ]
  },
  {
   "cell_type": "code",
   "execution_count": 42,
   "id": "6970150f-5793-45b2-8f1c-163f20f9c57a",
   "metadata": {},
   "outputs": [],
   "source": [
    "data = {\n",
    "    'Coffee_Shop': ['Brewed Awakening', 'Coffee Cloud', 'Bean Dream', 'Espresso Express', 'Latte Love',\n",
    "    'Mocha Magic', 'Cafe Comfort', 'Seattle Sip', 'Drip Drop', 'Grind Ground'],\n",
    "    'Location': ['Downtown', 'Capitol Hill', 'Green Lake', 'Ballard', 'West Seattle',\n",
    "    'Fremont', 'Queen Anne', 'Belltown', 'University District', 'Magnolia'],\n",
    "    'Avg_Rating': [4.5, 4.2, 5.0, 4.8, 4.6, 4.3, 4.9, 4.0, 4.7, 4.6],\n",
    "    'Coffee_Type': ['Espresso', 'Latte', 'Cappuccino', 'Americano', 'Cold Brew',\n",
    "    'Macchiato', 'Espresso', 'Latte', 'Drip Coffee', 'Americano'],\n",
    "    'Tables_Available': [5, 8, 6, 7, 5, 9, 7, 8, 6, 5]\n",
    "}"
   ]
  },
  {
   "cell_type": "code",
   "execution_count": 43,
   "id": "8e8e0377-7904-4720-befd-6f1f07bf1705",
   "metadata": {},
   "outputs": [],
   "source": [
    "coffee_shops_df = pd.DataFrame(data)"
   ]
  },
  {
   "cell_type": "code",
   "execution_count": 44,
   "id": "9255632f-9d70-4f7e-b420-411a959693cc",
   "metadata": {},
   "outputs": [
    {
     "data": {
      "text/html": [
       "<div>\n",
       "<style scoped>\n",
       "    .dataframe tbody tr th:only-of-type {\n",
       "        vertical-align: middle;\n",
       "    }\n",
       "\n",
       "    .dataframe tbody tr th {\n",
       "        vertical-align: top;\n",
       "    }\n",
       "\n",
       "    .dataframe thead th {\n",
       "        text-align: right;\n",
       "    }\n",
       "</style>\n",
       "<table border=\"1\" class=\"dataframe\">\n",
       "  <thead>\n",
       "    <tr style=\"text-align: right;\">\n",
       "      <th></th>\n",
       "      <th>Coffee_Shop</th>\n",
       "      <th>Location</th>\n",
       "      <th>Avg_Rating</th>\n",
       "      <th>Coffee_Type</th>\n",
       "      <th>Tables_Available</th>\n",
       "    </tr>\n",
       "  </thead>\n",
       "  <tbody>\n",
       "    <tr>\n",
       "      <th>0</th>\n",
       "      <td>Brewed Awakening</td>\n",
       "      <td>Downtown</td>\n",
       "      <td>4.5</td>\n",
       "      <td>Espresso</td>\n",
       "      <td>5</td>\n",
       "    </tr>\n",
       "    <tr>\n",
       "      <th>1</th>\n",
       "      <td>Coffee Cloud</td>\n",
       "      <td>Capitol Hill</td>\n",
       "      <td>4.2</td>\n",
       "      <td>Latte</td>\n",
       "      <td>8</td>\n",
       "    </tr>\n",
       "    <tr>\n",
       "      <th>2</th>\n",
       "      <td>Bean Dream</td>\n",
       "      <td>Green Lake</td>\n",
       "      <td>5.0</td>\n",
       "      <td>Cappuccino</td>\n",
       "      <td>6</td>\n",
       "    </tr>\n",
       "    <tr>\n",
       "      <th>3</th>\n",
       "      <td>Espresso Express</td>\n",
       "      <td>Ballard</td>\n",
       "      <td>4.8</td>\n",
       "      <td>Americano</td>\n",
       "      <td>7</td>\n",
       "    </tr>\n",
       "    <tr>\n",
       "      <th>4</th>\n",
       "      <td>Latte Love</td>\n",
       "      <td>West Seattle</td>\n",
       "      <td>4.6</td>\n",
       "      <td>Cold Brew</td>\n",
       "      <td>5</td>\n",
       "    </tr>\n",
       "    <tr>\n",
       "      <th>5</th>\n",
       "      <td>Mocha Magic</td>\n",
       "      <td>Fremont</td>\n",
       "      <td>4.3</td>\n",
       "      <td>Macchiato</td>\n",
       "      <td>9</td>\n",
       "    </tr>\n",
       "    <tr>\n",
       "      <th>6</th>\n",
       "      <td>Cafe Comfort</td>\n",
       "      <td>Queen Anne</td>\n",
       "      <td>4.9</td>\n",
       "      <td>Espresso</td>\n",
       "      <td>7</td>\n",
       "    </tr>\n",
       "    <tr>\n",
       "      <th>7</th>\n",
       "      <td>Seattle Sip</td>\n",
       "      <td>Belltown</td>\n",
       "      <td>4.0</td>\n",
       "      <td>Latte</td>\n",
       "      <td>8</td>\n",
       "    </tr>\n",
       "    <tr>\n",
       "      <th>8</th>\n",
       "      <td>Drip Drop</td>\n",
       "      <td>University District</td>\n",
       "      <td>4.7</td>\n",
       "      <td>Drip Coffee</td>\n",
       "      <td>6</td>\n",
       "    </tr>\n",
       "    <tr>\n",
       "      <th>9</th>\n",
       "      <td>Grind Ground</td>\n",
       "      <td>Magnolia</td>\n",
       "      <td>4.6</td>\n",
       "      <td>Americano</td>\n",
       "      <td>5</td>\n",
       "    </tr>\n",
       "  </tbody>\n",
       "</table>\n",
       "</div>"
      ],
      "text/plain": [
       "        Coffee_Shop             Location  Avg_Rating  Coffee_Type  \\\n",
       "0  Brewed Awakening             Downtown         4.5     Espresso   \n",
       "1      Coffee Cloud         Capitol Hill         4.2        Latte   \n",
       "2        Bean Dream           Green Lake         5.0   Cappuccino   \n",
       "3  Espresso Express              Ballard         4.8    Americano   \n",
       "4        Latte Love         West Seattle         4.6    Cold Brew   \n",
       "5       Mocha Magic              Fremont         4.3    Macchiato   \n",
       "6      Cafe Comfort           Queen Anne         4.9     Espresso   \n",
       "7       Seattle Sip             Belltown         4.0        Latte   \n",
       "8         Drip Drop  University District         4.7  Drip Coffee   \n",
       "9      Grind Ground             Magnolia         4.6    Americano   \n",
       "\n",
       "   Tables_Available  \n",
       "0                 5  \n",
       "1                 8  \n",
       "2                 6  \n",
       "3                 7  \n",
       "4                 5  \n",
       "5                 9  \n",
       "6                 7  \n",
       "7                 8  \n",
       "8                 6  \n",
       "9                 5  "
      ]
     },
     "execution_count": 44,
     "metadata": {},
     "output_type": "execute_result"
    }
   ],
   "source": [
    "coffee_shops_df"
   ]
  },
  {
   "cell_type": "markdown",
   "id": "219e5d74-ebdd-41a3-80f3-a5ee0031da88",
   "metadata": {},
   "source": [
    "How would you use the between method to filter rows from the coffee_shops_df where Avg_Rating is between 4.5 and 5.0, inclusive?"
   ]
  },
  {
   "cell_type": "code",
   "execution_count": 45,
   "id": "2c465373-33b8-49d0-ae1c-c433ff5a8c39",
   "metadata": {},
   "outputs": [
    {
     "data": {
      "text/html": [
       "<div>\n",
       "<style scoped>\n",
       "    .dataframe tbody tr th:only-of-type {\n",
       "        vertical-align: middle;\n",
       "    }\n",
       "\n",
       "    .dataframe tbody tr th {\n",
       "        vertical-align: top;\n",
       "    }\n",
       "\n",
       "    .dataframe thead th {\n",
       "        text-align: right;\n",
       "    }\n",
       "</style>\n",
       "<table border=\"1\" class=\"dataframe\">\n",
       "  <thead>\n",
       "    <tr style=\"text-align: right;\">\n",
       "      <th></th>\n",
       "      <th>Coffee_Shop</th>\n",
       "      <th>Location</th>\n",
       "      <th>Avg_Rating</th>\n",
       "      <th>Coffee_Type</th>\n",
       "      <th>Tables_Available</th>\n",
       "    </tr>\n",
       "  </thead>\n",
       "  <tbody>\n",
       "    <tr>\n",
       "      <th>0</th>\n",
       "      <td>Brewed Awakening</td>\n",
       "      <td>Downtown</td>\n",
       "      <td>4.5</td>\n",
       "      <td>Espresso</td>\n",
       "      <td>5</td>\n",
       "    </tr>\n",
       "    <tr>\n",
       "      <th>2</th>\n",
       "      <td>Bean Dream</td>\n",
       "      <td>Green Lake</td>\n",
       "      <td>5.0</td>\n",
       "      <td>Cappuccino</td>\n",
       "      <td>6</td>\n",
       "    </tr>\n",
       "    <tr>\n",
       "      <th>3</th>\n",
       "      <td>Espresso Express</td>\n",
       "      <td>Ballard</td>\n",
       "      <td>4.8</td>\n",
       "      <td>Americano</td>\n",
       "      <td>7</td>\n",
       "    </tr>\n",
       "    <tr>\n",
       "      <th>4</th>\n",
       "      <td>Latte Love</td>\n",
       "      <td>West Seattle</td>\n",
       "      <td>4.6</td>\n",
       "      <td>Cold Brew</td>\n",
       "      <td>5</td>\n",
       "    </tr>\n",
       "    <tr>\n",
       "      <th>6</th>\n",
       "      <td>Cafe Comfort</td>\n",
       "      <td>Queen Anne</td>\n",
       "      <td>4.9</td>\n",
       "      <td>Espresso</td>\n",
       "      <td>7</td>\n",
       "    </tr>\n",
       "    <tr>\n",
       "      <th>8</th>\n",
       "      <td>Drip Drop</td>\n",
       "      <td>University District</td>\n",
       "      <td>4.7</td>\n",
       "      <td>Drip Coffee</td>\n",
       "      <td>6</td>\n",
       "    </tr>\n",
       "    <tr>\n",
       "      <th>9</th>\n",
       "      <td>Grind Ground</td>\n",
       "      <td>Magnolia</td>\n",
       "      <td>4.6</td>\n",
       "      <td>Americano</td>\n",
       "      <td>5</td>\n",
       "    </tr>\n",
       "  </tbody>\n",
       "</table>\n",
       "</div>"
      ],
      "text/plain": [
       "        Coffee_Shop             Location  Avg_Rating  Coffee_Type  \\\n",
       "0  Brewed Awakening             Downtown         4.5     Espresso   \n",
       "2        Bean Dream           Green Lake         5.0   Cappuccino   \n",
       "3  Espresso Express              Ballard         4.8    Americano   \n",
       "4        Latte Love         West Seattle         4.6    Cold Brew   \n",
       "6      Cafe Comfort           Queen Anne         4.9     Espresso   \n",
       "8         Drip Drop  University District         4.7  Drip Coffee   \n",
       "9      Grind Ground             Magnolia         4.6    Americano   \n",
       "\n",
       "   Tables_Available  \n",
       "0                 5  \n",
       "2                 6  \n",
       "3                 7  \n",
       "4                 5  \n",
       "6                 7  \n",
       "8                 6  \n",
       "9                 5  "
      ]
     },
     "execution_count": 45,
     "metadata": {},
     "output_type": "execute_result"
    }
   ],
   "source": [
    "coffee_shops_df.loc[coffee_shops_df['Avg_Rating'].between(4.5, 5.0)]"
   ]
  },
  {
   "cell_type": "markdown",
   "id": "db18188d-2dd6-4a37-bca7-1469e572092d",
   "metadata": {},
   "source": [
    "Which coffee shops from the DataFrame are located in areas between 'Ballard' and 'Fremont' alphabetically using the between method?"
   ]
  },
  {
   "cell_type": "code",
   "execution_count": 47,
   "id": "4bd7e1de-e446-4e82-9f49-10b4a1670de2",
   "metadata": {},
   "outputs": [
    {
     "data": {
      "text/html": [
       "<div>\n",
       "<style scoped>\n",
       "    .dataframe tbody tr th:only-of-type {\n",
       "        vertical-align: middle;\n",
       "    }\n",
       "\n",
       "    .dataframe tbody tr th {\n",
       "        vertical-align: top;\n",
       "    }\n",
       "\n",
       "    .dataframe thead th {\n",
       "        text-align: right;\n",
       "    }\n",
       "</style>\n",
       "<table border=\"1\" class=\"dataframe\">\n",
       "  <thead>\n",
       "    <tr style=\"text-align: right;\">\n",
       "      <th></th>\n",
       "      <th>Coffee_Shop</th>\n",
       "      <th>Location</th>\n",
       "      <th>Avg_Rating</th>\n",
       "      <th>Coffee_Type</th>\n",
       "      <th>Tables_Available</th>\n",
       "    </tr>\n",
       "  </thead>\n",
       "  <tbody>\n",
       "    <tr>\n",
       "      <th>0</th>\n",
       "      <td>Brewed Awakening</td>\n",
       "      <td>Downtown</td>\n",
       "      <td>4.5</td>\n",
       "      <td>Espresso</td>\n",
       "      <td>5</td>\n",
       "    </tr>\n",
       "    <tr>\n",
       "      <th>1</th>\n",
       "      <td>Coffee Cloud</td>\n",
       "      <td>Capitol Hill</td>\n",
       "      <td>4.2</td>\n",
       "      <td>Latte</td>\n",
       "      <td>8</td>\n",
       "    </tr>\n",
       "    <tr>\n",
       "      <th>3</th>\n",
       "      <td>Espresso Express</td>\n",
       "      <td>Ballard</td>\n",
       "      <td>4.8</td>\n",
       "      <td>Americano</td>\n",
       "      <td>7</td>\n",
       "    </tr>\n",
       "    <tr>\n",
       "      <th>5</th>\n",
       "      <td>Mocha Magic</td>\n",
       "      <td>Fremont</td>\n",
       "      <td>4.3</td>\n",
       "      <td>Macchiato</td>\n",
       "      <td>9</td>\n",
       "    </tr>\n",
       "    <tr>\n",
       "      <th>7</th>\n",
       "      <td>Seattle Sip</td>\n",
       "      <td>Belltown</td>\n",
       "      <td>4.0</td>\n",
       "      <td>Latte</td>\n",
       "      <td>8</td>\n",
       "    </tr>\n",
       "  </tbody>\n",
       "</table>\n",
       "</div>"
      ],
      "text/plain": [
       "        Coffee_Shop      Location  Avg_Rating Coffee_Type  Tables_Available\n",
       "0  Brewed Awakening      Downtown         4.5    Espresso                 5\n",
       "1      Coffee Cloud  Capitol Hill         4.2       Latte                 8\n",
       "3  Espresso Express       Ballard         4.8   Americano                 7\n",
       "5       Mocha Magic       Fremont         4.3   Macchiato                 9\n",
       "7       Seattle Sip      Belltown         4.0       Latte                 8"
      ]
     },
     "execution_count": 47,
     "metadata": {},
     "output_type": "execute_result"
    }
   ],
   "source": [
    "coffee_shops_df.loc[coffee_shops_df['Location'].between('Ballard', 'Fremont')]"
   ]
  },
  {
   "cell_type": "markdown",
   "id": "34200162-2575-4955-ac49-d919a366e618",
   "metadata": {},
   "source": [
    "How can you use the between method to identify coffee shops that have between 5 and 7 tables available?"
   ]
  },
  {
   "cell_type": "code",
   "execution_count": 48,
   "id": "ebc678b0-1b0e-410f-916d-532a7ba15d7a",
   "metadata": {},
   "outputs": [
    {
     "data": {
      "text/html": [
       "<div>\n",
       "<style scoped>\n",
       "    .dataframe tbody tr th:only-of-type {\n",
       "        vertical-align: middle;\n",
       "    }\n",
       "\n",
       "    .dataframe tbody tr th {\n",
       "        vertical-align: top;\n",
       "    }\n",
       "\n",
       "    .dataframe thead th {\n",
       "        text-align: right;\n",
       "    }\n",
       "</style>\n",
       "<table border=\"1\" class=\"dataframe\">\n",
       "  <thead>\n",
       "    <tr style=\"text-align: right;\">\n",
       "      <th></th>\n",
       "      <th>Coffee_Shop</th>\n",
       "      <th>Location</th>\n",
       "      <th>Avg_Rating</th>\n",
       "      <th>Coffee_Type</th>\n",
       "      <th>Tables_Available</th>\n",
       "    </tr>\n",
       "  </thead>\n",
       "  <tbody>\n",
       "    <tr>\n",
       "      <th>0</th>\n",
       "      <td>Brewed Awakening</td>\n",
       "      <td>Downtown</td>\n",
       "      <td>4.5</td>\n",
       "      <td>Espresso</td>\n",
       "      <td>5</td>\n",
       "    </tr>\n",
       "    <tr>\n",
       "      <th>2</th>\n",
       "      <td>Bean Dream</td>\n",
       "      <td>Green Lake</td>\n",
       "      <td>5.0</td>\n",
       "      <td>Cappuccino</td>\n",
       "      <td>6</td>\n",
       "    </tr>\n",
       "    <tr>\n",
       "      <th>3</th>\n",
       "      <td>Espresso Express</td>\n",
       "      <td>Ballard</td>\n",
       "      <td>4.8</td>\n",
       "      <td>Americano</td>\n",
       "      <td>7</td>\n",
       "    </tr>\n",
       "    <tr>\n",
       "      <th>4</th>\n",
       "      <td>Latte Love</td>\n",
       "      <td>West Seattle</td>\n",
       "      <td>4.6</td>\n",
       "      <td>Cold Brew</td>\n",
       "      <td>5</td>\n",
       "    </tr>\n",
       "    <tr>\n",
       "      <th>6</th>\n",
       "      <td>Cafe Comfort</td>\n",
       "      <td>Queen Anne</td>\n",
       "      <td>4.9</td>\n",
       "      <td>Espresso</td>\n",
       "      <td>7</td>\n",
       "    </tr>\n",
       "    <tr>\n",
       "      <th>8</th>\n",
       "      <td>Drip Drop</td>\n",
       "      <td>University District</td>\n",
       "      <td>4.7</td>\n",
       "      <td>Drip Coffee</td>\n",
       "      <td>6</td>\n",
       "    </tr>\n",
       "    <tr>\n",
       "      <th>9</th>\n",
       "      <td>Grind Ground</td>\n",
       "      <td>Magnolia</td>\n",
       "      <td>4.6</td>\n",
       "      <td>Americano</td>\n",
       "      <td>5</td>\n",
       "    </tr>\n",
       "  </tbody>\n",
       "</table>\n",
       "</div>"
      ],
      "text/plain": [
       "        Coffee_Shop             Location  Avg_Rating  Coffee_Type  \\\n",
       "0  Brewed Awakening             Downtown         4.5     Espresso   \n",
       "2        Bean Dream           Green Lake         5.0   Cappuccino   \n",
       "3  Espresso Express              Ballard         4.8    Americano   \n",
       "4        Latte Love         West Seattle         4.6    Cold Brew   \n",
       "6      Cafe Comfort           Queen Anne         4.9     Espresso   \n",
       "8         Drip Drop  University District         4.7  Drip Coffee   \n",
       "9      Grind Ground             Magnolia         4.6    Americano   \n",
       "\n",
       "   Tables_Available  \n",
       "0                 5  \n",
       "2                 6  \n",
       "3                 7  \n",
       "4                 5  \n",
       "6                 7  \n",
       "8                 6  \n",
       "9                 5  "
      ]
     },
     "execution_count": 48,
     "metadata": {},
     "output_type": "execute_result"
    }
   ],
   "source": [
    "coffee_shops_df.loc[coffee_shops_df['Tables_Available'].between(5, 7)]"
   ]
  },
  {
   "cell_type": "markdown",
   "id": "67b3e2b0-685b-46e1-bd3a-f3800413cf25",
   "metadata": {},
   "source": [
    "pandas count method"
   ]
  },
  {
   "cell_type": "code",
   "execution_count": 49,
   "id": "7c5a14c2-265c-4418-9312-2d42732603aa",
   "metadata": {},
   "outputs": [],
   "source": [
    "data = {\n",
    "    'worker_id': [1, 2, 3, 4, 5],\n",
    "    'first_name': ['Monika', 'Niharika', 'Vishal', 'Amitah', 'Vivek'],\n",
    "    'last_name': ['Arora', 'Verma', 'Singhal', 'Singh', 'Bhati'],\n",
    "    'salary': [100000, 80000, 300000, 500000, 500000],\n",
    "    'joining_date': ['2014-02-20 00:00:00', '2014-06-11 00:00:00', '2014-02-20 00:00:00', '2014-02-20 00:00:00', '2014-06-11 00:00:00'],\n",
    "    'department': ['HR', 'Admin', 'HR', 'Admin', 'Admin']\n",
    "}"
   ]
  },
  {
   "cell_type": "code",
   "execution_count": 50,
   "id": "5740dfc5-d345-4277-89a0-7f12721f7e29",
   "metadata": {},
   "outputs": [],
   "source": [
    "df = pd.DataFrame(data)"
   ]
  },
  {
   "cell_type": "code",
   "execution_count": 51,
   "id": "64769063-f4aa-4a15-b5e0-ff1ad8657f1c",
   "metadata": {},
   "outputs": [
    {
     "data": {
      "text/html": [
       "<div>\n",
       "<style scoped>\n",
       "    .dataframe tbody tr th:only-of-type {\n",
       "        vertical-align: middle;\n",
       "    }\n",
       "\n",
       "    .dataframe tbody tr th {\n",
       "        vertical-align: top;\n",
       "    }\n",
       "\n",
       "    .dataframe thead th {\n",
       "        text-align: right;\n",
       "    }\n",
       "</style>\n",
       "<table border=\"1\" class=\"dataframe\">\n",
       "  <thead>\n",
       "    <tr style=\"text-align: right;\">\n",
       "      <th></th>\n",
       "      <th>worker_id</th>\n",
       "      <th>first_name</th>\n",
       "      <th>last_name</th>\n",
       "      <th>salary</th>\n",
       "      <th>joining_date</th>\n",
       "      <th>department</th>\n",
       "    </tr>\n",
       "  </thead>\n",
       "  <tbody>\n",
       "    <tr>\n",
       "      <th>0</th>\n",
       "      <td>1</td>\n",
       "      <td>Monika</td>\n",
       "      <td>Arora</td>\n",
       "      <td>100000</td>\n",
       "      <td>2014-02-20 00:00:00</td>\n",
       "      <td>HR</td>\n",
       "    </tr>\n",
       "    <tr>\n",
       "      <th>1</th>\n",
       "      <td>2</td>\n",
       "      <td>Niharika</td>\n",
       "      <td>Verma</td>\n",
       "      <td>80000</td>\n",
       "      <td>2014-06-11 00:00:00</td>\n",
       "      <td>Admin</td>\n",
       "    </tr>\n",
       "    <tr>\n",
       "      <th>2</th>\n",
       "      <td>3</td>\n",
       "      <td>Vishal</td>\n",
       "      <td>Singhal</td>\n",
       "      <td>300000</td>\n",
       "      <td>2014-02-20 00:00:00</td>\n",
       "      <td>HR</td>\n",
       "    </tr>\n",
       "    <tr>\n",
       "      <th>3</th>\n",
       "      <td>4</td>\n",
       "      <td>Amitah</td>\n",
       "      <td>Singh</td>\n",
       "      <td>500000</td>\n",
       "      <td>2014-02-20 00:00:00</td>\n",
       "      <td>Admin</td>\n",
       "    </tr>\n",
       "    <tr>\n",
       "      <th>4</th>\n",
       "      <td>5</td>\n",
       "      <td>Vivek</td>\n",
       "      <td>Bhati</td>\n",
       "      <td>500000</td>\n",
       "      <td>2014-06-11 00:00:00</td>\n",
       "      <td>Admin</td>\n",
       "    </tr>\n",
       "  </tbody>\n",
       "</table>\n",
       "</div>"
      ],
      "text/plain": [
       "   worker_id first_name last_name  salary         joining_date department\n",
       "0          1     Monika     Arora  100000  2014-02-20 00:00:00         HR\n",
       "1          2   Niharika     Verma   80000  2014-06-11 00:00:00      Admin\n",
       "2          3     Vishal   Singhal  300000  2014-02-20 00:00:00         HR\n",
       "3          4     Amitah     Singh  500000  2014-02-20 00:00:00      Admin\n",
       "4          5      Vivek     Bhati  500000  2014-06-11 00:00:00      Admin"
      ]
     },
     "execution_count": 51,
     "metadata": {},
     "output_type": "execute_result"
    }
   ],
   "source": [
    "df"
   ]
  },
  {
   "cell_type": "markdown",
   "id": "bbc2df36-be29-4661-99d7-03c9c339f2b7",
   "metadata": {},
   "source": [
    "How would you use count to find the total number of rows in the DataFrame?"
   ]
  },
  {
   "cell_type": "code",
   "execution_count": 52,
   "id": "5fb9e35a-3922-4446-a121-da66570737d9",
   "metadata": {},
   "outputs": [
    {
     "data": {
      "text/plain": [
       "5"
      ]
     },
     "execution_count": 52,
     "metadata": {},
     "output_type": "execute_result"
    }
   ],
   "source": [
    "df.count(axis=0).loc['worker_id']"
   ]
  },
  {
   "cell_type": "markdown",
   "id": "40748970-7df0-49e8-8334-03de7de42b28",
   "metadata": {},
   "source": [
    "How can you use count to find the number of non-NA/null entries in the 'salary' column?"
   ]
  },
  {
   "cell_type": "code",
   "execution_count": 54,
   "id": "07eb6d61-5fc3-46ce-ba85-b14503e4cfc6",
   "metadata": {},
   "outputs": [
    {
     "data": {
      "text/plain": [
       "5"
      ]
     },
     "execution_count": 54,
     "metadata": {},
     "output_type": "execute_result"
    }
   ],
   "source": [
    "df.count().loc['salary']"
   ]
  },
  {
   "cell_type": "markdown",
   "id": "29fbbceb-f197-4dd4-9d25-e628e9c806ea",
   "metadata": {},
   "source": [
    "How would you apply count to find the number of non-NA/null entries for each column in the DataFrame?"
   ]
  },
  {
   "cell_type": "code",
   "execution_count": 55,
   "id": "f2948e31-a855-4399-9eb0-6ae427c22b2e",
   "metadata": {},
   "outputs": [
    {
     "data": {
      "text/plain": [
       "worker_id       5\n",
       "first_name      5\n",
       "last_name       5\n",
       "salary          5\n",
       "joining_date    5\n",
       "department      5\n",
       "dtype: int64"
      ]
     },
     "execution_count": 55,
     "metadata": {},
     "output_type": "execute_result"
    }
   ],
   "source": [
    "df.count()"
   ]
  },
  {
   "cell_type": "markdown",
   "id": "78d1b566-f609-4d5f-a869-ef5f610d8465",
   "metadata": {},
   "source": [
    "Can you use count along with groupby to find out how many workers are in each department?"
   ]
  },
  {
   "cell_type": "code",
   "execution_count": 56,
   "id": "aaea54d8-6b51-437c-8687-b220806b078c",
   "metadata": {},
   "outputs": [
    {
     "data": {
      "text/html": [
       "<div>\n",
       "<style scoped>\n",
       "    .dataframe tbody tr th:only-of-type {\n",
       "        vertical-align: middle;\n",
       "    }\n",
       "\n",
       "    .dataframe tbody tr th {\n",
       "        vertical-align: top;\n",
       "    }\n",
       "\n",
       "    .dataframe thead th {\n",
       "        text-align: right;\n",
       "    }\n",
       "</style>\n",
       "<table border=\"1\" class=\"dataframe\">\n",
       "  <thead>\n",
       "    <tr style=\"text-align: right;\">\n",
       "      <th></th>\n",
       "      <th>worker_id</th>\n",
       "      <th>first_name</th>\n",
       "      <th>last_name</th>\n",
       "      <th>salary</th>\n",
       "      <th>joining_date</th>\n",
       "    </tr>\n",
       "    <tr>\n",
       "      <th>department</th>\n",
       "      <th></th>\n",
       "      <th></th>\n",
       "      <th></th>\n",
       "      <th></th>\n",
       "      <th></th>\n",
       "    </tr>\n",
       "  </thead>\n",
       "  <tbody>\n",
       "    <tr>\n",
       "      <th>Admin</th>\n",
       "      <td>3</td>\n",
       "      <td>3</td>\n",
       "      <td>3</td>\n",
       "      <td>3</td>\n",
       "      <td>3</td>\n",
       "    </tr>\n",
       "    <tr>\n",
       "      <th>HR</th>\n",
       "      <td>2</td>\n",
       "      <td>2</td>\n",
       "      <td>2</td>\n",
       "      <td>2</td>\n",
       "      <td>2</td>\n",
       "    </tr>\n",
       "  </tbody>\n",
       "</table>\n",
       "</div>"
      ],
      "text/plain": [
       "            worker_id  first_name  last_name  salary  joining_date\n",
       "department                                                        \n",
       "Admin               3           3          3       3             3\n",
       "HR                  2           2          2       2             2"
      ]
     },
     "execution_count": 56,
     "metadata": {},
     "output_type": "execute_result"
    }
   ],
   "source": [
    "df.groupby('department').count()"
   ]
  },
  {
   "cell_type": "markdown",
   "id": "01bf2ce9-f542-4ef4-8b07-33830037b433",
   "metadata": {},
   "source": [
    "pandas duplicate "
   ]
  },
  {
   "cell_type": "code",
   "execution_count": 57,
   "id": "c398461e-56b3-45f2-8576-afe6edb9d410",
   "metadata": {},
   "outputs": [],
   "source": [
    "data = {\n",
    "    'Product_ID': [1, 2, 3, 4, 5, 6, 1, 2, 3, 4],\n",
    "    'Product_Name': ['Toothpaste', 'Shampoo', 'Laptop', 'TV', 'Coffee Maker', 'Blender', 'Toothpaste', 'Shampoo', 'Laptop', 'TV'],\n",
    "    'Category': ['Personal Care', 'Personal Care', 'Electronics', 'Electronics', 'Kitchen Appliances', 'Kitchen Appliances', 'Personal Care', 'Personal Care', 'Electronics', 'Electronics'],\n",
    "    'Price': [5.0, 10.0, 1000.0, 600.0, 50.0, 30.0, 5.0, 10.0, 1000.0, 600.0],\n",
    "    'Units_Sold': [100, 50, 20, 15, 30, 25, 110, 55, 22, 17]\n",
    "}"
   ]
  },
  {
   "cell_type": "code",
   "execution_count": 58,
   "id": "a4c19b7d-2bed-4c45-834a-243e80fa6bd5",
   "metadata": {},
   "outputs": [],
   "source": [
    "df = pd.DataFrame(data)"
   ]
  },
  {
   "cell_type": "code",
   "execution_count": 59,
   "id": "d578c5f6-da12-458f-b3c9-030ce0deb840",
   "metadata": {},
   "outputs": [
    {
     "data": {
      "text/html": [
       "<div>\n",
       "<style scoped>\n",
       "    .dataframe tbody tr th:only-of-type {\n",
       "        vertical-align: middle;\n",
       "    }\n",
       "\n",
       "    .dataframe tbody tr th {\n",
       "        vertical-align: top;\n",
       "    }\n",
       "\n",
       "    .dataframe thead th {\n",
       "        text-align: right;\n",
       "    }\n",
       "</style>\n",
       "<table border=\"1\" class=\"dataframe\">\n",
       "  <thead>\n",
       "    <tr style=\"text-align: right;\">\n",
       "      <th></th>\n",
       "      <th>Product_ID</th>\n",
       "      <th>Product_Name</th>\n",
       "      <th>Category</th>\n",
       "      <th>Price</th>\n",
       "      <th>Units_Sold</th>\n",
       "    </tr>\n",
       "  </thead>\n",
       "  <tbody>\n",
       "    <tr>\n",
       "      <th>0</th>\n",
       "      <td>1</td>\n",
       "      <td>Toothpaste</td>\n",
       "      <td>Personal Care</td>\n",
       "      <td>5.0</td>\n",
       "      <td>100</td>\n",
       "    </tr>\n",
       "    <tr>\n",
       "      <th>1</th>\n",
       "      <td>2</td>\n",
       "      <td>Shampoo</td>\n",
       "      <td>Personal Care</td>\n",
       "      <td>10.0</td>\n",
       "      <td>50</td>\n",
       "    </tr>\n",
       "    <tr>\n",
       "      <th>2</th>\n",
       "      <td>3</td>\n",
       "      <td>Laptop</td>\n",
       "      <td>Electronics</td>\n",
       "      <td>1000.0</td>\n",
       "      <td>20</td>\n",
       "    </tr>\n",
       "    <tr>\n",
       "      <th>3</th>\n",
       "      <td>4</td>\n",
       "      <td>TV</td>\n",
       "      <td>Electronics</td>\n",
       "      <td>600.0</td>\n",
       "      <td>15</td>\n",
       "    </tr>\n",
       "    <tr>\n",
       "      <th>4</th>\n",
       "      <td>5</td>\n",
       "      <td>Coffee Maker</td>\n",
       "      <td>Kitchen Appliances</td>\n",
       "      <td>50.0</td>\n",
       "      <td>30</td>\n",
       "    </tr>\n",
       "    <tr>\n",
       "      <th>5</th>\n",
       "      <td>6</td>\n",
       "      <td>Blender</td>\n",
       "      <td>Kitchen Appliances</td>\n",
       "      <td>30.0</td>\n",
       "      <td>25</td>\n",
       "    </tr>\n",
       "    <tr>\n",
       "      <th>6</th>\n",
       "      <td>1</td>\n",
       "      <td>Toothpaste</td>\n",
       "      <td>Personal Care</td>\n",
       "      <td>5.0</td>\n",
       "      <td>110</td>\n",
       "    </tr>\n",
       "    <tr>\n",
       "      <th>7</th>\n",
       "      <td>2</td>\n",
       "      <td>Shampoo</td>\n",
       "      <td>Personal Care</td>\n",
       "      <td>10.0</td>\n",
       "      <td>55</td>\n",
       "    </tr>\n",
       "    <tr>\n",
       "      <th>8</th>\n",
       "      <td>3</td>\n",
       "      <td>Laptop</td>\n",
       "      <td>Electronics</td>\n",
       "      <td>1000.0</td>\n",
       "      <td>22</td>\n",
       "    </tr>\n",
       "    <tr>\n",
       "      <th>9</th>\n",
       "      <td>4</td>\n",
       "      <td>TV</td>\n",
       "      <td>Electronics</td>\n",
       "      <td>600.0</td>\n",
       "      <td>17</td>\n",
       "    </tr>\n",
       "  </tbody>\n",
       "</table>\n",
       "</div>"
      ],
      "text/plain": [
       "   Product_ID  Product_Name            Category   Price  Units_Sold\n",
       "0           1    Toothpaste       Personal Care     5.0         100\n",
       "1           2       Shampoo       Personal Care    10.0          50\n",
       "2           3        Laptop         Electronics  1000.0          20\n",
       "3           4            TV         Electronics   600.0          15\n",
       "4           5  Coffee Maker  Kitchen Appliances    50.0          30\n",
       "5           6       Blender  Kitchen Appliances    30.0          25\n",
       "6           1    Toothpaste       Personal Care     5.0         110\n",
       "7           2       Shampoo       Personal Care    10.0          55\n",
       "8           3        Laptop         Electronics  1000.0          22\n",
       "9           4            TV         Electronics   600.0          17"
      ]
     },
     "execution_count": 59,
     "metadata": {},
     "output_type": "execute_result"
    }
   ],
   "source": [
    "df"
   ]
  },
  {
   "cell_type": "markdown",
   "id": "baa24729-974e-41f4-8b37-892aa7b56791",
   "metadata": {},
   "source": [
    "How would you identify if there are any duplicate rows in the DataFrame? What function would you use?"
   ]
  },
  {
   "cell_type": "code",
   "execution_count": 61,
   "id": "18031d1c-bc3d-44b3-a959-c3b7af97d860",
   "metadata": {},
   "outputs": [
    {
     "data": {
      "text/plain": [
       "0    False\n",
       "1    False\n",
       "2    False\n",
       "3    False\n",
       "4    False\n",
       "5    False\n",
       "6    False\n",
       "7    False\n",
       "8    False\n",
       "9    False\n",
       "dtype: bool"
      ]
     },
     "execution_count": 61,
     "metadata": {},
     "output_type": "execute_result"
    }
   ],
   "source": [
    "df.duplicated()"
   ]
  },
  {
   "cell_type": "markdown",
   "id": "6e3f6987-3510-46f9-b45a-6f923b5cac12",
   "metadata": {},
   "source": [
    "If the DataFrame has a column for 'Product_ID', how would you find out if there are any duplicate 'Product_ID' entries?"
   ]
  },
  {
   "cell_type": "code",
   "execution_count": 62,
   "id": "b5225a7b-7e85-414f-a197-31fe79a7e0bf",
   "metadata": {},
   "outputs": [
    {
     "data": {
      "text/html": [
       "<div>\n",
       "<style scoped>\n",
       "    .dataframe tbody tr th:only-of-type {\n",
       "        vertical-align: middle;\n",
       "    }\n",
       "\n",
       "    .dataframe tbody tr th {\n",
       "        vertical-align: top;\n",
       "    }\n",
       "\n",
       "    .dataframe thead th {\n",
       "        text-align: right;\n",
       "    }\n",
       "</style>\n",
       "<table border=\"1\" class=\"dataframe\">\n",
       "  <thead>\n",
       "    <tr style=\"text-align: right;\">\n",
       "      <th></th>\n",
       "      <th>Product_ID</th>\n",
       "    </tr>\n",
       "  </thead>\n",
       "  <tbody>\n",
       "    <tr>\n",
       "      <th>6</th>\n",
       "      <td>1</td>\n",
       "    </tr>\n",
       "    <tr>\n",
       "      <th>7</th>\n",
       "      <td>2</td>\n",
       "    </tr>\n",
       "    <tr>\n",
       "      <th>8</th>\n",
       "      <td>3</td>\n",
       "    </tr>\n",
       "    <tr>\n",
       "      <th>9</th>\n",
       "      <td>4</td>\n",
       "    </tr>\n",
       "  </tbody>\n",
       "</table>\n",
       "</div>"
      ],
      "text/plain": [
       "   Product_ID\n",
       "6           1\n",
       "7           2\n",
       "8           3\n",
       "9           4"
      ]
     },
     "execution_count": 62,
     "metadata": {},
     "output_type": "execute_result"
    }
   ],
   "source": [
    "df.loc[df['Product_ID'].duplicated(), ['Product_ID']]"
   ]
  },
  {
   "cell_type": "markdown",
   "id": "ca7774a2-90c4-4c36-8cf9-92cbf514dbf6",
   "metadata": {},
   "source": [
    "How would you remove duplicate rows in the DataFrame? Which function can accomplish this?"
   ]
  },
  {
   "cell_type": "code",
   "execution_count": 63,
   "id": "27b20871-9622-48c7-8bb3-07085a433eb8",
   "metadata": {},
   "outputs": [],
   "source": [
    "df1 = df.copy()"
   ]
  },
  {
   "cell_type": "markdown",
   "id": "f79e7718-e415-441f-af0d-6044142b7621",
   "metadata": {},
   "source": [
    "If the DataFrame has columns 'Product_ID' and 'Product_Category', how would you remove rows where only 'Product_ID' is duplicated but keep the first occurrence?"
   ]
  },
  {
   "cell_type": "code",
   "execution_count": 68,
   "id": "a8651712-a3bb-48c5-8000-167f013ae002",
   "metadata": {},
   "outputs": [
    {
     "data": {
      "text/html": [
       "<div>\n",
       "<style scoped>\n",
       "    .dataframe tbody tr th:only-of-type {\n",
       "        vertical-align: middle;\n",
       "    }\n",
       "\n",
       "    .dataframe tbody tr th {\n",
       "        vertical-align: top;\n",
       "    }\n",
       "\n",
       "    .dataframe thead th {\n",
       "        text-align: right;\n",
       "    }\n",
       "</style>\n",
       "<table border=\"1\" class=\"dataframe\">\n",
       "  <thead>\n",
       "    <tr style=\"text-align: right;\">\n",
       "      <th></th>\n",
       "      <th>Product_ID</th>\n",
       "      <th>Product_Name</th>\n",
       "      <th>Category</th>\n",
       "      <th>Price</th>\n",
       "      <th>Units_Sold</th>\n",
       "    </tr>\n",
       "  </thead>\n",
       "  <tbody>\n",
       "    <tr>\n",
       "      <th>0</th>\n",
       "      <td>1</td>\n",
       "      <td>Toothpaste</td>\n",
       "      <td>Personal Care</td>\n",
       "      <td>5.0</td>\n",
       "      <td>100</td>\n",
       "    </tr>\n",
       "    <tr>\n",
       "      <th>1</th>\n",
       "      <td>2</td>\n",
       "      <td>Shampoo</td>\n",
       "      <td>Personal Care</td>\n",
       "      <td>10.0</td>\n",
       "      <td>50</td>\n",
       "    </tr>\n",
       "    <tr>\n",
       "      <th>2</th>\n",
       "      <td>3</td>\n",
       "      <td>Laptop</td>\n",
       "      <td>Electronics</td>\n",
       "      <td>1000.0</td>\n",
       "      <td>20</td>\n",
       "    </tr>\n",
       "    <tr>\n",
       "      <th>3</th>\n",
       "      <td>4</td>\n",
       "      <td>TV</td>\n",
       "      <td>Electronics</td>\n",
       "      <td>600.0</td>\n",
       "      <td>15</td>\n",
       "    </tr>\n",
       "    <tr>\n",
       "      <th>4</th>\n",
       "      <td>5</td>\n",
       "      <td>Coffee Maker</td>\n",
       "      <td>Kitchen Appliances</td>\n",
       "      <td>50.0</td>\n",
       "      <td>30</td>\n",
       "    </tr>\n",
       "    <tr>\n",
       "      <th>5</th>\n",
       "      <td>6</td>\n",
       "      <td>Blender</td>\n",
       "      <td>Kitchen Appliances</td>\n",
       "      <td>30.0</td>\n",
       "      <td>25</td>\n",
       "    </tr>\n",
       "  </tbody>\n",
       "</table>\n",
       "</div>"
      ],
      "text/plain": [
       "   Product_ID  Product_Name            Category   Price  Units_Sold\n",
       "0           1    Toothpaste       Personal Care     5.0         100\n",
       "1           2       Shampoo       Personal Care    10.0          50\n",
       "2           3        Laptop         Electronics  1000.0          20\n",
       "3           4            TV         Electronics   600.0          15\n",
       "4           5  Coffee Maker  Kitchen Appliances    50.0          30\n",
       "5           6       Blender  Kitchen Appliances    30.0          25"
      ]
     },
     "execution_count": 68,
     "metadata": {},
     "output_type": "execute_result"
    }
   ],
   "source": [
    "df1.drop_duplicates(subset=['Product_ID'], keep='first')"
   ]
  },
  {
   "cell_type": "markdown",
   "id": "af92879e-2a3f-4810-a74a-4970cc3c11f6",
   "metadata": {},
   "source": [
    "pandas rename"
   ]
  },
  {
   "cell_type": "code",
   "execution_count": 69,
   "id": "86ac5b19-fa4b-4398-8539-809c1e7c4e81",
   "metadata": {},
   "outputs": [],
   "source": [
    "data = {\n",
    "    'Store_ID': [1001, 1002, 1003, 1004, 1005],\n",
    "    'Store_Name': ['Pet Paradise', 'Animal Kingdom', 'Furry Friends', 'Pet Pals', 'Fauna House'],\n",
    "    'Location': ['New York', 'Los Angeles', 'Chicago', 'Houston', 'Phoenix'],\n",
    "    'Speciality': ['Fish', 'Birds', 'Dogs', 'Cats', 'Reptiles'],\n",
    "    'Rating': [4.5, 4.2, 3.9, 4.7, 4.0]\n",
    "}"
   ]
  },
  {
   "cell_type": "code",
   "execution_count": 70,
   "id": "7d454f41-90f0-409f-8af5-02f8e8a1d068",
   "metadata": {},
   "outputs": [],
   "source": [
    "df = pd.DataFrame(data)"
   ]
  },
  {
   "cell_type": "code",
   "execution_count": 71,
   "id": "0598b293-a868-488e-aec4-d867007ae27f",
   "metadata": {},
   "outputs": [
    {
     "data": {
      "text/html": [
       "<div>\n",
       "<style scoped>\n",
       "    .dataframe tbody tr th:only-of-type {\n",
       "        vertical-align: middle;\n",
       "    }\n",
       "\n",
       "    .dataframe tbody tr th {\n",
       "        vertical-align: top;\n",
       "    }\n",
       "\n",
       "    .dataframe thead th {\n",
       "        text-align: right;\n",
       "    }\n",
       "</style>\n",
       "<table border=\"1\" class=\"dataframe\">\n",
       "  <thead>\n",
       "    <tr style=\"text-align: right;\">\n",
       "      <th></th>\n",
       "      <th>Store_ID</th>\n",
       "      <th>Store_Name</th>\n",
       "      <th>Location</th>\n",
       "      <th>Speciality</th>\n",
       "      <th>Rating</th>\n",
       "    </tr>\n",
       "  </thead>\n",
       "  <tbody>\n",
       "    <tr>\n",
       "      <th>0</th>\n",
       "      <td>1001</td>\n",
       "      <td>Pet Paradise</td>\n",
       "      <td>New York</td>\n",
       "      <td>Fish</td>\n",
       "      <td>4.5</td>\n",
       "    </tr>\n",
       "    <tr>\n",
       "      <th>1</th>\n",
       "      <td>1002</td>\n",
       "      <td>Animal Kingdom</td>\n",
       "      <td>Los Angeles</td>\n",
       "      <td>Birds</td>\n",
       "      <td>4.2</td>\n",
       "    </tr>\n",
       "    <tr>\n",
       "      <th>2</th>\n",
       "      <td>1003</td>\n",
       "      <td>Furry Friends</td>\n",
       "      <td>Chicago</td>\n",
       "      <td>Dogs</td>\n",
       "      <td>3.9</td>\n",
       "    </tr>\n",
       "    <tr>\n",
       "      <th>3</th>\n",
       "      <td>1004</td>\n",
       "      <td>Pet Pals</td>\n",
       "      <td>Houston</td>\n",
       "      <td>Cats</td>\n",
       "      <td>4.7</td>\n",
       "    </tr>\n",
       "    <tr>\n",
       "      <th>4</th>\n",
       "      <td>1005</td>\n",
       "      <td>Fauna House</td>\n",
       "      <td>Phoenix</td>\n",
       "      <td>Reptiles</td>\n",
       "      <td>4.0</td>\n",
       "    </tr>\n",
       "  </tbody>\n",
       "</table>\n",
       "</div>"
      ],
      "text/plain": [
       "   Store_ID      Store_Name     Location Speciality  Rating\n",
       "0      1001    Pet Paradise     New York       Fish     4.5\n",
       "1      1002  Animal Kingdom  Los Angeles      Birds     4.2\n",
       "2      1003   Furry Friends      Chicago       Dogs     3.9\n",
       "3      1004        Pet Pals      Houston       Cats     4.7\n",
       "4      1005     Fauna House      Phoenix   Reptiles     4.0"
      ]
     },
     "execution_count": 71,
     "metadata": {},
     "output_type": "execute_result"
    }
   ],
   "source": [
    "df"
   ]
  },
  {
   "cell_type": "markdown",
   "id": "adc7df5b-ebc2-4407-803c-49a88ad01688",
   "metadata": {},
   "source": [
    "How can you rename the column 'Speciality' to 'Pet_Type'"
   ]
  },
  {
   "cell_type": "code",
   "execution_count": 72,
   "id": "4e5a3a75-de63-4e1b-b80f-70a1517d4321",
   "metadata": {},
   "outputs": [
    {
     "data": {
      "text/html": [
       "<div>\n",
       "<style scoped>\n",
       "    .dataframe tbody tr th:only-of-type {\n",
       "        vertical-align: middle;\n",
       "    }\n",
       "\n",
       "    .dataframe tbody tr th {\n",
       "        vertical-align: top;\n",
       "    }\n",
       "\n",
       "    .dataframe thead th {\n",
       "        text-align: right;\n",
       "    }\n",
       "</style>\n",
       "<table border=\"1\" class=\"dataframe\">\n",
       "  <thead>\n",
       "    <tr style=\"text-align: right;\">\n",
       "      <th></th>\n",
       "      <th>Store_ID</th>\n",
       "      <th>Store_Name</th>\n",
       "      <th>Location</th>\n",
       "      <th>Pet_Type</th>\n",
       "      <th>Rating</th>\n",
       "    </tr>\n",
       "  </thead>\n",
       "  <tbody>\n",
       "    <tr>\n",
       "      <th>0</th>\n",
       "      <td>1001</td>\n",
       "      <td>Pet Paradise</td>\n",
       "      <td>New York</td>\n",
       "      <td>Fish</td>\n",
       "      <td>4.5</td>\n",
       "    </tr>\n",
       "    <tr>\n",
       "      <th>1</th>\n",
       "      <td>1002</td>\n",
       "      <td>Animal Kingdom</td>\n",
       "      <td>Los Angeles</td>\n",
       "      <td>Birds</td>\n",
       "      <td>4.2</td>\n",
       "    </tr>\n",
       "    <tr>\n",
       "      <th>2</th>\n",
       "      <td>1003</td>\n",
       "      <td>Furry Friends</td>\n",
       "      <td>Chicago</td>\n",
       "      <td>Dogs</td>\n",
       "      <td>3.9</td>\n",
       "    </tr>\n",
       "    <tr>\n",
       "      <th>3</th>\n",
       "      <td>1004</td>\n",
       "      <td>Pet Pals</td>\n",
       "      <td>Houston</td>\n",
       "      <td>Cats</td>\n",
       "      <td>4.7</td>\n",
       "    </tr>\n",
       "    <tr>\n",
       "      <th>4</th>\n",
       "      <td>1005</td>\n",
       "      <td>Fauna House</td>\n",
       "      <td>Phoenix</td>\n",
       "      <td>Reptiles</td>\n",
       "      <td>4.0</td>\n",
       "    </tr>\n",
       "  </tbody>\n",
       "</table>\n",
       "</div>"
      ],
      "text/plain": [
       "   Store_ID      Store_Name     Location  Pet_Type  Rating\n",
       "0      1001    Pet Paradise     New York      Fish     4.5\n",
       "1      1002  Animal Kingdom  Los Angeles     Birds     4.2\n",
       "2      1003   Furry Friends      Chicago      Dogs     3.9\n",
       "3      1004        Pet Pals      Houston      Cats     4.7\n",
       "4      1005     Fauna House      Phoenix  Reptiles     4.0"
      ]
     },
     "execution_count": 72,
     "metadata": {},
     "output_type": "execute_result"
    }
   ],
   "source": [
    "df.rename(columns={'Speciality':'Pet_Type'})"
   ]
  },
  {
   "cell_type": "markdown",
   "id": "b1b7ee42-bc9b-422a-a4c3-44b607995e84",
   "metadata": {},
   "source": [
    "If you wanted to change 'Store_Name' to 'Pet_Store_Name' and 'Rating' to 'Customer_Rating', how would you achieve this using the rename method?"
   ]
  },
  {
   "cell_type": "code",
   "execution_count": 73,
   "id": "4abcaf10-5a62-4a03-8cc3-178b96af7aa6",
   "metadata": {},
   "outputs": [
    {
     "data": {
      "text/html": [
       "<div>\n",
       "<style scoped>\n",
       "    .dataframe tbody tr th:only-of-type {\n",
       "        vertical-align: middle;\n",
       "    }\n",
       "\n",
       "    .dataframe tbody tr th {\n",
       "        vertical-align: top;\n",
       "    }\n",
       "\n",
       "    .dataframe thead th {\n",
       "        text-align: right;\n",
       "    }\n",
       "</style>\n",
       "<table border=\"1\" class=\"dataframe\">\n",
       "  <thead>\n",
       "    <tr style=\"text-align: right;\">\n",
       "      <th></th>\n",
       "      <th>Store_ID</th>\n",
       "      <th>Store_Name</th>\n",
       "      <th>Location</th>\n",
       "      <th>Pet_Type_Name</th>\n",
       "      <th>Customer_Rating</th>\n",
       "    </tr>\n",
       "  </thead>\n",
       "  <tbody>\n",
       "    <tr>\n",
       "      <th>0</th>\n",
       "      <td>1001</td>\n",
       "      <td>Pet Paradise</td>\n",
       "      <td>New York</td>\n",
       "      <td>Fish</td>\n",
       "      <td>4.5</td>\n",
       "    </tr>\n",
       "    <tr>\n",
       "      <th>1</th>\n",
       "      <td>1002</td>\n",
       "      <td>Animal Kingdom</td>\n",
       "      <td>Los Angeles</td>\n",
       "      <td>Birds</td>\n",
       "      <td>4.2</td>\n",
       "    </tr>\n",
       "    <tr>\n",
       "      <th>2</th>\n",
       "      <td>1003</td>\n",
       "      <td>Furry Friends</td>\n",
       "      <td>Chicago</td>\n",
       "      <td>Dogs</td>\n",
       "      <td>3.9</td>\n",
       "    </tr>\n",
       "    <tr>\n",
       "      <th>3</th>\n",
       "      <td>1004</td>\n",
       "      <td>Pet Pals</td>\n",
       "      <td>Houston</td>\n",
       "      <td>Cats</td>\n",
       "      <td>4.7</td>\n",
       "    </tr>\n",
       "    <tr>\n",
       "      <th>4</th>\n",
       "      <td>1005</td>\n",
       "      <td>Fauna House</td>\n",
       "      <td>Phoenix</td>\n",
       "      <td>Reptiles</td>\n",
       "      <td>4.0</td>\n",
       "    </tr>\n",
       "  </tbody>\n",
       "</table>\n",
       "</div>"
      ],
      "text/plain": [
       "   Store_ID      Store_Name     Location Pet_Type_Name  Customer_Rating\n",
       "0      1001    Pet Paradise     New York          Fish              4.5\n",
       "1      1002  Animal Kingdom  Los Angeles         Birds              4.2\n",
       "2      1003   Furry Friends      Chicago          Dogs              3.9\n",
       "3      1004        Pet Pals      Houston          Cats              4.7\n",
       "4      1005     Fauna House      Phoenix      Reptiles              4.0"
      ]
     },
     "execution_count": 73,
     "metadata": {},
     "output_type": "execute_result"
    }
   ],
   "source": [
    "df.rename(columns={'Speciality':'Pet_Type_Name', 'Rating': 'Customer_Rating'})"
   ]
  },
  {
   "cell_type": "markdown",
   "id": "fff697ea-5b2f-4c5a-a3da-f9691e326090",
   "metadata": {},
   "source": [
    "Can the rename method be used to change the index names? If so, demonstrate how."
   ]
  },
  {
   "cell_type": "code",
   "execution_count": 74,
   "id": "969a67f9-a0c8-407f-bf38-75840e65ef30",
   "metadata": {},
   "outputs": [],
   "source": [
    "df_new = df.set_index('Location')"
   ]
  },
  {
   "cell_type": "code",
   "execution_count": 75,
   "id": "d9c243df-8866-4395-965e-53d6dd7f2b0e",
   "metadata": {},
   "outputs": [
    {
     "data": {
      "text/html": [
       "<div>\n",
       "<style scoped>\n",
       "    .dataframe tbody tr th:only-of-type {\n",
       "        vertical-align: middle;\n",
       "    }\n",
       "\n",
       "    .dataframe tbody tr th {\n",
       "        vertical-align: top;\n",
       "    }\n",
       "\n",
       "    .dataframe thead th {\n",
       "        text-align: right;\n",
       "    }\n",
       "</style>\n",
       "<table border=\"1\" class=\"dataframe\">\n",
       "  <thead>\n",
       "    <tr style=\"text-align: right;\">\n",
       "      <th></th>\n",
       "      <th>Store_ID</th>\n",
       "      <th>Store_Name</th>\n",
       "      <th>Speciality</th>\n",
       "      <th>Rating</th>\n",
       "    </tr>\n",
       "    <tr>\n",
       "      <th>Location</th>\n",
       "      <th></th>\n",
       "      <th></th>\n",
       "      <th></th>\n",
       "      <th></th>\n",
       "    </tr>\n",
       "  </thead>\n",
       "  <tbody>\n",
       "    <tr>\n",
       "      <th>New York</th>\n",
       "      <td>1001</td>\n",
       "      <td>Pet Paradise</td>\n",
       "      <td>Fish</td>\n",
       "      <td>4.5</td>\n",
       "    </tr>\n",
       "    <tr>\n",
       "      <th>Los Angeles</th>\n",
       "      <td>1002</td>\n",
       "      <td>Animal Kingdom</td>\n",
       "      <td>Birds</td>\n",
       "      <td>4.2</td>\n",
       "    </tr>\n",
       "    <tr>\n",
       "      <th>Chicago</th>\n",
       "      <td>1003</td>\n",
       "      <td>Furry Friends</td>\n",
       "      <td>Dogs</td>\n",
       "      <td>3.9</td>\n",
       "    </tr>\n",
       "    <tr>\n",
       "      <th>Houston</th>\n",
       "      <td>1004</td>\n",
       "      <td>Pet Pals</td>\n",
       "      <td>Cats</td>\n",
       "      <td>4.7</td>\n",
       "    </tr>\n",
       "    <tr>\n",
       "      <th>Phoenix</th>\n",
       "      <td>1005</td>\n",
       "      <td>Fauna House</td>\n",
       "      <td>Reptiles</td>\n",
       "      <td>4.0</td>\n",
       "    </tr>\n",
       "  </tbody>\n",
       "</table>\n",
       "</div>"
      ],
      "text/plain": [
       "             Store_ID      Store_Name Speciality  Rating\n",
       "Location                                                \n",
       "New York         1001    Pet Paradise       Fish     4.5\n",
       "Los Angeles      1002  Animal Kingdom      Birds     4.2\n",
       "Chicago          1003   Furry Friends       Dogs     3.9\n",
       "Houston          1004        Pet Pals       Cats     4.7\n",
       "Phoenix          1005     Fauna House   Reptiles     4.0"
      ]
     },
     "execution_count": 75,
     "metadata": {},
     "output_type": "execute_result"
    }
   ],
   "source": [
    "df_new"
   ]
  },
  {
   "cell_type": "code",
   "execution_count": 76,
   "id": "a5a0ff2d-e68b-4899-91ee-fb2aab3b5950",
   "metadata": {},
   "outputs": [
    {
     "data": {
      "text/html": [
       "<div>\n",
       "<style scoped>\n",
       "    .dataframe tbody tr th:only-of-type {\n",
       "        vertical-align: middle;\n",
       "    }\n",
       "\n",
       "    .dataframe tbody tr th {\n",
       "        vertical-align: top;\n",
       "    }\n",
       "\n",
       "    .dataframe thead th {\n",
       "        text-align: right;\n",
       "    }\n",
       "</style>\n",
       "<table border=\"1\" class=\"dataframe\">\n",
       "  <thead>\n",
       "    <tr style=\"text-align: right;\">\n",
       "      <th></th>\n",
       "      <th>Store_ID</th>\n",
       "      <th>Store_Name</th>\n",
       "      <th>Speciality</th>\n",
       "      <th>Rating</th>\n",
       "    </tr>\n",
       "    <tr>\n",
       "      <th>Location</th>\n",
       "      <th></th>\n",
       "      <th></th>\n",
       "      <th></th>\n",
       "      <th></th>\n",
       "    </tr>\n",
       "  </thead>\n",
       "  <tbody>\n",
       "    <tr>\n",
       "      <th>NEW YORK</th>\n",
       "      <td>1001</td>\n",
       "      <td>Pet Paradise</td>\n",
       "      <td>Fish</td>\n",
       "      <td>4.5</td>\n",
       "    </tr>\n",
       "    <tr>\n",
       "      <th>LOS ANGELES</th>\n",
       "      <td>1002</td>\n",
       "      <td>Animal Kingdom</td>\n",
       "      <td>Birds</td>\n",
       "      <td>4.2</td>\n",
       "    </tr>\n",
       "    <tr>\n",
       "      <th>CHICAGO</th>\n",
       "      <td>1003</td>\n",
       "      <td>Furry Friends</td>\n",
       "      <td>Dogs</td>\n",
       "      <td>3.9</td>\n",
       "    </tr>\n",
       "    <tr>\n",
       "      <th>HOUSTON</th>\n",
       "      <td>1004</td>\n",
       "      <td>Pet Pals</td>\n",
       "      <td>Cats</td>\n",
       "      <td>4.7</td>\n",
       "    </tr>\n",
       "    <tr>\n",
       "      <th>PHOENIX</th>\n",
       "      <td>1005</td>\n",
       "      <td>Fauna House</td>\n",
       "      <td>Reptiles</td>\n",
       "      <td>4.0</td>\n",
       "    </tr>\n",
       "  </tbody>\n",
       "</table>\n",
       "</div>"
      ],
      "text/plain": [
       "             Store_ID      Store_Name Speciality  Rating\n",
       "Location                                                \n",
       "NEW YORK         1001    Pet Paradise       Fish     4.5\n",
       "LOS ANGELES      1002  Animal Kingdom      Birds     4.2\n",
       "CHICAGO          1003   Furry Friends       Dogs     3.9\n",
       "HOUSTON          1004        Pet Pals       Cats     4.7\n",
       "PHOENIX          1005     Fauna House   Reptiles     4.0"
      ]
     },
     "execution_count": 76,
     "metadata": {},
     "output_type": "execute_result"
    }
   ],
   "source": [
    "df_new.rename(index=str.upper)"
   ]
  },
  {
   "cell_type": "markdown",
   "id": "b3b3b32d-32ed-4ee8-b453-2ff36c9e8e1a",
   "metadata": {},
   "source": [
    "How would you use the rename method to change the name of the store with Store_ID 1003?"
   ]
  },
  {
   "cell_type": "code",
   "execution_count": 77,
   "id": "ccb5ef0a-54c6-4868-9ede-661bb87a10f0",
   "metadata": {},
   "outputs": [
    {
     "data": {
      "text/html": [
       "<div>\n",
       "<style scoped>\n",
       "    .dataframe tbody tr th:only-of-type {\n",
       "        vertical-align: middle;\n",
       "    }\n",
       "\n",
       "    .dataframe tbody tr th {\n",
       "        vertical-align: top;\n",
       "    }\n",
       "\n",
       "    .dataframe thead th {\n",
       "        text-align: right;\n",
       "    }\n",
       "</style>\n",
       "<table border=\"1\" class=\"dataframe\">\n",
       "  <thead>\n",
       "    <tr style=\"text-align: right;\">\n",
       "      <th></th>\n",
       "      <th>Store_ID</th>\n",
       "      <th>Store_Name</th>\n",
       "      <th>Location</th>\n",
       "      <th>Speciality</th>\n",
       "      <th>Rating</th>\n",
       "    </tr>\n",
       "  </thead>\n",
       "  <tbody>\n",
       "    <tr>\n",
       "      <th>0</th>\n",
       "      <td>1001</td>\n",
       "      <td>Pet Paradise</td>\n",
       "      <td>New York</td>\n",
       "      <td>Fish</td>\n",
       "      <td>4.5</td>\n",
       "    </tr>\n",
       "    <tr>\n",
       "      <th>1</th>\n",
       "      <td>1002</td>\n",
       "      <td>Animal Kingdom</td>\n",
       "      <td>Los Angeles</td>\n",
       "      <td>Birds</td>\n",
       "      <td>4.2</td>\n",
       "    </tr>\n",
       "    <tr>\n",
       "      <th>2</th>\n",
       "      <td>1003</td>\n",
       "      <td>Non Furry friends</td>\n",
       "      <td>Chicago</td>\n",
       "      <td>Dogs</td>\n",
       "      <td>3.9</td>\n",
       "    </tr>\n",
       "    <tr>\n",
       "      <th>3</th>\n",
       "      <td>1004</td>\n",
       "      <td>Pet Pals</td>\n",
       "      <td>Houston</td>\n",
       "      <td>Cats</td>\n",
       "      <td>4.7</td>\n",
       "    </tr>\n",
       "    <tr>\n",
       "      <th>4</th>\n",
       "      <td>1005</td>\n",
       "      <td>Fauna House</td>\n",
       "      <td>Phoenix</td>\n",
       "      <td>Reptiles</td>\n",
       "      <td>4.0</td>\n",
       "    </tr>\n",
       "  </tbody>\n",
       "</table>\n",
       "</div>"
      ],
      "text/plain": [
       "   Store_ID         Store_Name     Location Speciality  Rating\n",
       "0      1001       Pet Paradise     New York       Fish     4.5\n",
       "1      1002     Animal Kingdom  Los Angeles      Birds     4.2\n",
       "2      1003  Non Furry friends      Chicago       Dogs     3.9\n",
       "3      1004           Pet Pals      Houston       Cats     4.7\n",
       "4      1005        Fauna House      Phoenix   Reptiles     4.0"
      ]
     },
     "execution_count": 77,
     "metadata": {},
     "output_type": "execute_result"
    }
   ],
   "source": [
    "df.replace(df.loc[2, 'Store_Name'],\"Non Furry friends\")"
   ]
  },
  {
   "cell_type": "markdown",
   "id": "116c3ed1-b4f9-4b41-96d8-a852bd0e4f89",
   "metadata": {},
   "source": [
    "3 Use the following link for data cleaning cheat-sheet. Create a separate jupyter notebook with all practice code in single file"
   ]
  },
  {
   "cell_type": "markdown",
   "id": "8c103455-e04b-4fc2-8145-74bd4b24fba8",
   "metadata": {},
   "source": [
    "Deduplicating data\n",
    "In this notebook, we deduplicate data using the Dedupe library, which utilizes a shallow neural network to learn from a small training exercise.\n",
    "If you are interested in building your own parser, the same folks have created the Parserator which you can use to extract text features and train your own text extraction (hooray! less brittle than regex!)"
   ]
  },
  {
   "cell_type": "code",
   "execution_count": 92,
   "id": "036b2bc3-8c9f-4176-87b9-4f93a1062d6e",
   "metadata": {},
   "outputs": [
    {
     "name": "stdout",
     "output_type": "stream",
     "text": [
      "Collecting fuzz\n",
      "  Downloading fuzz-0.1.1-py3-none-any.whl (4.7 kB)\n",
      "Installing collected packages: fuzz\n",
      "Successfully installed fuzz-0.1.1\n",
      "Note: you may need to restart the kernel to use updated packages.\n"
     ]
    },
    {
     "name": "stderr",
     "output_type": "stream",
     "text": [
      "\n",
      "[notice] A new release of pip is available: 23.2.1 -> 23.3.1\n",
      "[notice] To update, run: python.exe -m pip install --upgrade pip\n"
     ]
    }
   ],
   "source": [
    "pip install fuzz"
   ]
  },
  {
   "cell_type": "markdown",
   "id": "87744c9b-7c7c-4687-bc37-35b53eaa97f4",
   "metadata": {},
   "source": [
    "String Matching\n",
    "In this notebook, we use fuzzywuzzy, a popular string matching library by SeatGeek"
   ]
  },
  {
   "cell_type": "code",
   "execution_count": 93,
   "id": "f8b0b10a-f390-4738-85a7-ae727b3525fb",
   "metadata": {},
   "outputs": [],
   "source": [
    "from fuzzywuzzy import fuzz, process"
   ]
  },
  {
   "cell_type": "code",
   "execution_count": 94,
   "id": "8959fb79-262b-4bda-af00-d16861358358",
   "metadata": {},
   "outputs": [],
   "source": [
    "berlin = ['Berlin, Germany', \n",
    "          'Berlin, Deutschland', \n",
    "          'Berlin', \n",
    "          'Berlin, DE']"
   ]
  },
  {
   "cell_type": "markdown",
   "id": "7e66757d-889e-4322-943a-6387ec446b8c",
   "metadata": {},
   "source": [
    "Try matching the first and second strings: 'Berlin, Germany' and 'Berlin, Deutschland'"
   ]
  },
  {
   "cell_type": "code",
   "execution_count": 95,
   "id": "4f48da46-86e3-47be-8aa2-89ec5d0824a8",
   "metadata": {},
   "outputs": [
    {
     "data": {
      "text/plain": [
       "60"
      ]
     },
     "execution_count": 95,
     "metadata": {},
     "output_type": "execute_result"
    }
   ],
   "source": [
    "fuzz.partial_ratio(berlin[0], berlin[1])"
   ]
  },
  {
   "cell_type": "code",
   "execution_count": 96,
   "id": "07313056-a05e-4315-9af0-62359768c2f1",
   "metadata": {},
   "outputs": [
    {
     "data": {
      "text/plain": [
       "\u001b[1;31mSignature:\u001b[0m \u001b[0mfuzz\u001b[0m\u001b[1;33m.\u001b[0m\u001b[0mratio\u001b[0m\u001b[1;33m(\u001b[0m\u001b[0ms1\u001b[0m\u001b[1;33m,\u001b[0m \u001b[0ms2\u001b[0m\u001b[1;33m)\u001b[0m\u001b[1;33m\u001b[0m\u001b[1;33m\u001b[0m\u001b[0m\n",
       "\u001b[1;31mDocstring:\u001b[0m <no docstring>\n",
       "\u001b[1;31mFile:\u001b[0m      c:\\python\\lib\\site-packages\\fuzzywuzzy\\fuzz.py\n",
       "\u001b[1;31mType:\u001b[0m      function"
      ]
     },
     "metadata": {},
     "output_type": "display_data"
    }
   ],
   "source": [
    "fuzz.ratio?"
   ]
  },
  {
   "cell_type": "code",
   "execution_count": 97,
   "id": "63dda608-bfd4-4611-9ff6-f98e458fedb5",
   "metadata": {},
   "outputs": [
    {
     "data": {
      "text/plain": [
       "65"
      ]
     },
     "execution_count": 97,
     "metadata": {},
     "output_type": "execute_result"
    }
   ],
   "source": [
    "fuzz.ratio(berlin[0], berlin[1])"
   ]
  },
  {
   "cell_type": "code",
   "execution_count": 98,
   "id": "422e13a4-a37c-4416-9cc1-4f0b78481128",
   "metadata": {},
   "outputs": [
    {
     "data": {
      "text/plain": [
       "62"
      ]
     },
     "execution_count": 98,
     "metadata": {},
     "output_type": "execute_result"
    }
   ],
   "source": [
    "fuzz.token_set_ratio(berlin[0], berlin[1])"
   ]
  },
  {
   "cell_type": "code",
   "execution_count": 99,
   "id": "30549cde-3c1b-46c8-82fb-ff73afe11ac0",
   "metadata": {},
   "outputs": [
    {
     "data": {
      "text/plain": [
       "62"
      ]
     },
     "execution_count": 99,
     "metadata": {},
     "output_type": "execute_result"
    }
   ],
   "source": [
    "fuzz.token_sort_ratio(berlin[0], berlin[1])"
   ]
  },
  {
   "cell_type": "markdown",
   "id": "6c1257bd-7863-4731-9894-d96cf5fe373f",
   "metadata": {},
   "source": [
    "Try matching the second and third strings: 'Berlin, Deutschland' and 'Berlin'"
   ]
  },
  {
   "cell_type": "code",
   "execution_count": 100,
   "id": "0b04eb86-6a98-4bf0-a8ce-fbc336cba88e",
   "metadata": {},
   "outputs": [
    {
     "data": {
      "text/plain": [
       "100"
      ]
     },
     "execution_count": 100,
     "metadata": {},
     "output_type": "execute_result"
    }
   ],
   "source": [
    "fuzz.partial_ratio(berlin[1], berlin[2])"
   ]
  },
  {
   "cell_type": "code",
   "execution_count": 101,
   "id": "11f85053-4c3f-4dae-ae48-9f8b6d4fe317",
   "metadata": {},
   "outputs": [
    {
     "data": {
      "text/plain": [
       "48"
      ]
     },
     "execution_count": 101,
     "metadata": {},
     "output_type": "execute_result"
    }
   ],
   "source": [
    "fuzz.ratio(berlin[1], berlin[2])"
   ]
  },
  {
   "cell_type": "code",
   "execution_count": 102,
   "id": "c602aca4-160a-4acf-b97a-60567ccdf706",
   "metadata": {},
   "outputs": [
    {
     "data": {
      "text/plain": [
       "50"
      ]
     },
     "execution_count": 102,
     "metadata": {},
     "output_type": "execute_result"
    }
   ],
   "source": [
    "fuzz.token_sort_ratio(berlin[1], berlin[2])"
   ]
  },
  {
   "cell_type": "markdown",
   "id": "c7f8630a-de07-4e8c-8fef-623924b68dba",
   "metadata": {},
   "source": [
    "What do you think will score lowest and highest for the final two elements:\n",
    "'Berlin'\n",
    "'Berlin, DE'"
   ]
  },
  {
   "cell_type": "code",
   "execution_count": 103,
   "id": "90cbe289-d9ea-4463-93fd-f10412d46416",
   "metadata": {},
   "outputs": [
    {
     "data": {
      "text/plain": [
       "100"
      ]
     },
     "execution_count": 103,
     "metadata": {},
     "output_type": "execute_result"
    }
   ],
   "source": [
    "fuzz.token_set_ratio(berlin[2], berlin[3])"
   ]
  },
  {
   "cell_type": "markdown",
   "id": "6858b582-d327-4514-af6c-dd17d5de6631",
   "metadata": {},
   "source": [
    "Extracting a guess out of a list"
   ]
  },
  {
   "cell_type": "code",
   "execution_count": 105,
   "id": "48dafcb5-a421-43e8-8523-569926944bdf",
   "metadata": {},
   "outputs": [],
   "source": [
    "choices = ['Germany', 'Deutschland', 'France', \n",
    "           'United Kingdom', 'Great Britain', \n",
    "           'United States']"
   ]
  },
  {
   "cell_type": "code",
   "execution_count": 106,
   "id": "3ef7c6b1-06ca-4f45-b972-49611c17c7f3",
   "metadata": {},
   "outputs": [
    {
     "data": {
      "text/plain": [
       "[('Deutschland', 90), ('United States', 57)]"
      ]
     },
     "execution_count": 106,
     "metadata": {},
     "output_type": "execute_result"
    }
   ],
   "source": [
    "process.extract('DE', choices, limit=2)"
   ]
  },
  {
   "cell_type": "code",
   "execution_count": 107,
   "id": "facc3d83-ce39-4d2d-acb4-a19c9a0fe924",
   "metadata": {},
   "outputs": [
    {
     "data": {
      "text/plain": [
       "[('Deutschland', 45),\n",
       " ('United Kingdom', 45),\n",
       " ('United States', 45),\n",
       " ('Germany', 0),\n",
       " ('France', 0)]"
      ]
     },
     "execution_count": 107,
     "metadata": {},
     "output_type": "execute_result"
    }
   ],
   "source": [
    "process.extract('UK', choices)"
   ]
  },
  {
   "cell_type": "code",
   "execution_count": 108,
   "id": "22212a74-8740-42c5-b4c7-360ba204b2d8",
   "metadata": {},
   "outputs": [
    {
     "data": {
      "text/plain": [
       "[('France', 62),\n",
       " ('Great Britain', 41),\n",
       " ('Germany', 35),\n",
       " ('United Kingdom', 25),\n",
       " ('United States', 25)]"
      ]
     },
     "execution_count": 108,
     "metadata": {},
     "output_type": "execute_result"
    }
   ],
   "source": [
    "process.extract('frankreich', choices)"
   ]
  },
  {
   "cell_type": "markdown",
   "id": "d46e9054-e8fb-45fb-bf0e-54cd9bab6560",
   "metadata": {},
   "source": [
    "\n",
    "Managing Nulls with Pandas\n",
    "In this notebook, we will take a look at some ways to manage nulls using Pandas DataFrames."
   ]
  },
  {
   "cell_type": "code",
   "execution_count": 110,
   "id": "6a767c2e-f683-4b73-b8c3-9d05990d9125",
   "metadata": {},
   "outputs": [],
   "source": [
    " \n",
    "df = pd.read_csv('Automobile_data.csv')"
   ]
  },
  {
   "cell_type": "markdown",
   "id": "83b10ce1-a836-4269-b300-d0492da177bc",
   "metadata": {},
   "source": [
    "Data Quality Check"
   ]
  },
  {
   "cell_type": "code",
   "execution_count": 111,
   "id": "5742d41b-7813-40ac-bef2-1b53a14ca14b",
   "metadata": {},
   "outputs": [
    {
     "data": {
      "text/html": [
       "<div>\n",
       "<style scoped>\n",
       "    .dataframe tbody tr th:only-of-type {\n",
       "        vertical-align: middle;\n",
       "    }\n",
       "\n",
       "    .dataframe tbody tr th {\n",
       "        vertical-align: top;\n",
       "    }\n",
       "\n",
       "    .dataframe thead th {\n",
       "        text-align: right;\n",
       "    }\n",
       "</style>\n",
       "<table border=\"1\" class=\"dataframe\">\n",
       "  <thead>\n",
       "    <tr style=\"text-align: right;\">\n",
       "      <th></th>\n",
       "      <th>Unnamed: 0</th>\n",
       "      <th>index</th>\n",
       "      <th>company</th>\n",
       "      <th>body-style</th>\n",
       "      <th>wheel-base</th>\n",
       "      <th>length</th>\n",
       "      <th>engine-type</th>\n",
       "      <th>num-of-cylinders</th>\n",
       "      <th>horsepower</th>\n",
       "      <th>average-mileage</th>\n",
       "      <th>price</th>\n",
       "    </tr>\n",
       "  </thead>\n",
       "  <tbody>\n",
       "    <tr>\n",
       "      <th>0</th>\n",
       "      <td>0</td>\n",
       "      <td>0</td>\n",
       "      <td>alfa-romero</td>\n",
       "      <td>convertible</td>\n",
       "      <td>88.6</td>\n",
       "      <td>168.8</td>\n",
       "      <td>dohc</td>\n",
       "      <td>four</td>\n",
       "      <td>111</td>\n",
       "      <td>21</td>\n",
       "      <td>13495.0</td>\n",
       "    </tr>\n",
       "    <tr>\n",
       "      <th>1</th>\n",
       "      <td>1</td>\n",
       "      <td>1</td>\n",
       "      <td>alfa-romero</td>\n",
       "      <td>convertible</td>\n",
       "      <td>88.6</td>\n",
       "      <td>168.8</td>\n",
       "      <td>dohc</td>\n",
       "      <td>four</td>\n",
       "      <td>111</td>\n",
       "      <td>21</td>\n",
       "      <td>16500.0</td>\n",
       "    </tr>\n",
       "    <tr>\n",
       "      <th>2</th>\n",
       "      <td>2</td>\n",
       "      <td>2</td>\n",
       "      <td>alfa-romero</td>\n",
       "      <td>hatchback</td>\n",
       "      <td>94.5</td>\n",
       "      <td>171.2</td>\n",
       "      <td>ohcv</td>\n",
       "      <td>six</td>\n",
       "      <td>154</td>\n",
       "      <td>19</td>\n",
       "      <td>16500.0</td>\n",
       "    </tr>\n",
       "    <tr>\n",
       "      <th>3</th>\n",
       "      <td>3</td>\n",
       "      <td>3</td>\n",
       "      <td>audi</td>\n",
       "      <td>sedan</td>\n",
       "      <td>99.8</td>\n",
       "      <td>176.6</td>\n",
       "      <td>ohc</td>\n",
       "      <td>four</td>\n",
       "      <td>102</td>\n",
       "      <td>24</td>\n",
       "      <td>13950.0</td>\n",
       "    </tr>\n",
       "    <tr>\n",
       "      <th>4</th>\n",
       "      <td>4</td>\n",
       "      <td>4</td>\n",
       "      <td>audi</td>\n",
       "      <td>sedan</td>\n",
       "      <td>99.4</td>\n",
       "      <td>176.6</td>\n",
       "      <td>ohc</td>\n",
       "      <td>five</td>\n",
       "      <td>115</td>\n",
       "      <td>18</td>\n",
       "      <td>17450.0</td>\n",
       "    </tr>\n",
       "  </tbody>\n",
       "</table>\n",
       "</div>"
      ],
      "text/plain": [
       "   Unnamed: 0  index      company   body-style  wheel-base  length  \\\n",
       "0           0      0  alfa-romero  convertible        88.6   168.8   \n",
       "1           1      1  alfa-romero  convertible        88.6   168.8   \n",
       "2           2      2  alfa-romero    hatchback        94.5   171.2   \n",
       "3           3      3         audi        sedan        99.8   176.6   \n",
       "4           4      4         audi        sedan        99.4   176.6   \n",
       "\n",
       "  engine-type num-of-cylinders  horsepower  average-mileage    price  \n",
       "0        dohc             four         111               21  13495.0  \n",
       "1        dohc             four         111               21  16500.0  \n",
       "2        ohcv              six         154               19  16500.0  \n",
       "3         ohc             four         102               24  13950.0  \n",
       "4         ohc             five         115               18  17450.0  "
      ]
     },
     "execution_count": 111,
     "metadata": {},
     "output_type": "execute_result"
    }
   ],
   "source": [
    "df.head()"
   ]
  },
  {
   "cell_type": "code",
   "execution_count": 112,
   "id": "08534800-de0b-4139-b006-57fac9534967",
   "metadata": {},
   "outputs": [
    {
     "data": {
      "text/plain": [
       "Unnamed: 0            int64\n",
       "index                 int64\n",
       "company              object\n",
       "body-style           object\n",
       "wheel-base          float64\n",
       "length              float64\n",
       "engine-type          object\n",
       "num-of-cylinders     object\n",
       "horsepower            int64\n",
       "average-mileage       int64\n",
       "price               float64\n",
       "dtype: object"
      ]
     },
     "execution_count": 112,
     "metadata": {},
     "output_type": "execute_result"
    }
   ],
   "source": [
    "df.dtypes"
   ]
  },
  {
   "cell_type": "markdown",
   "id": "09a373f4-b9b7-41aa-91a3-d1414a3d4e46",
   "metadata": {},
   "source": [
    "Let's remove all null values (including the note: n/a)"
   ]
  },
  {
   "cell_type": "code",
   "execution_count": 114,
   "id": "9ad99d8a-9381-4cd4-af5f-a99b202840fa",
   "metadata": {},
   "outputs": [],
   "source": [
    "df = pd.read_csv('Automobile_data.csv', \n",
    "                 na_values=['n/a'])"
   ]
  },
  {
   "cell_type": "markdown",
   "id": "986cfdd5-ceb6-484d-8040-b031fde6ba0f",
   "metadata": {},
   "source": [
    "Test to see if we can use dropna"
   ]
  },
  {
   "cell_type": "code",
   "execution_count": 115,
   "id": "6824f332-5183-40c1-b788-1a1bc1c835b4",
   "metadata": {},
   "outputs": [
    {
     "data": {
      "text/plain": [
       "(61, 11)"
      ]
     },
     "execution_count": 115,
     "metadata": {},
     "output_type": "execute_result"
    }
   ],
   "source": [
    "df.shape"
   ]
  },
  {
   "cell_type": "code",
   "execution_count": 116,
   "id": "d3da6a13-1ff5-424e-8330-9484d4148a6a",
   "metadata": {},
   "outputs": [
    {
     "data": {
      "text/plain": [
       "(58, 11)"
      ]
     },
     "execution_count": 116,
     "metadata": {},
     "output_type": "execute_result"
    }
   ],
   "source": [
    "df.dropna().shape"
   ]
  },
  {
   "cell_type": "code",
   "execution_count": 117,
   "id": "767b1546-2a9d-4e09-97c1-74e00eafcc0b",
   "metadata": {},
   "outputs": [
    {
     "data": {
      "text/plain": [
       "(61, 11)"
      ]
     },
     "execution_count": 117,
     "metadata": {},
     "output_type": "execute_result"
    }
   ],
   "source": [
    "df.dropna(how='all', axis=1).shape"
   ]
  },
  {
   "cell_type": "markdown",
   "id": "fc6128f2-d2a3-4e91-9616-d0a9343bc0ea",
   "metadata": {},
   "source": [
    "Test to see if we can drop columns"
   ]
  },
  {
   "cell_type": "code",
   "execution_count": 119,
   "id": "01a1d6c5-aec4-4db9-99b0-1f95815209f5",
   "metadata": {},
   "outputs": [],
   "source": [
    "my_columns = list(df.columns)"
   ]
  },
  {
   "cell_type": "code",
   "execution_count": 120,
   "id": "5d9d1096-5e10-453f-b642-429de4ae27f3",
   "metadata": {},
   "outputs": [
    {
     "data": {
      "text/plain": [
       "['Unnamed: 0',\n",
       " 'index',\n",
       " 'company',\n",
       " 'body-style',\n",
       " 'wheel-base',\n",
       " 'length',\n",
       " 'engine-type',\n",
       " 'num-of-cylinders',\n",
       " 'horsepower',\n",
       " 'average-mileage',\n",
       " 'price']"
      ]
     },
     "execution_count": 120,
     "metadata": {},
     "output_type": "execute_result"
    }
   ],
   "source": [
    "my_columns"
   ]
  },
  {
   "cell_type": "code",
   "execution_count": 121,
   "id": "1e6a9f18-4c18-4b64-9f61-1466dbfa2f3b",
   "metadata": {},
   "outputs": [
    {
     "data": {
      "text/plain": [
       "['Unnamed: 0',\n",
       " 'index',\n",
       " 'company',\n",
       " 'body-style',\n",
       " 'wheel-base',\n",
       " 'length',\n",
       " 'engine-type',\n",
       " 'num-of-cylinders',\n",
       " 'horsepower',\n",
       " 'average-mileage',\n",
       " 'price']"
      ]
     },
     "execution_count": 121,
     "metadata": {},
     "output_type": "execute_result"
    }
   ],
   "source": [
    "list(df.dropna(thresh=int(df.shape[0] * .9), axis=1).columns)"
   ]
  },
  {
   "cell_type": "markdown",
   "id": "fb02287a-3cc6-43c5-9f0c-7ed2ce270dfc",
   "metadata": {},
   "source": [
    "I want to find all columns that have missing data"
   ]
  },
  {
   "cell_type": "code",
   "execution_count": 122,
   "id": "c3605ff4-440f-4746-9078-f56bfee383e8",
   "metadata": {},
   "outputs": [],
   "source": [
    "missing_info = list(df.columns[df.isnull().any()])"
   ]
  },
  {
   "cell_type": "code",
   "execution_count": 123,
   "id": "1fac111e-0e8c-4daf-a629-0193ece3c577",
   "metadata": {},
   "outputs": [
    {
     "data": {
      "text/plain": [
       "['price']"
      ]
     },
     "execution_count": 123,
     "metadata": {},
     "output_type": "execute_result"
    }
   ],
   "source": [
    "missing_info"
   ]
  },
  {
   "cell_type": "code",
   "execution_count": 150,
   "id": "88c8fc94-cdea-4a51-8896-e08a5d6131f1",
   "metadata": {},
   "outputs": [],
   "source": [
    " \n",
    "import pandas as pd\n",
    "from datetime import datetime"
   ]
  },
  {
   "cell_type": "code",
   "execution_count": 126,
   "id": "f4da8235-766f-4c6a-aee1-e6d5edc3aad3",
   "metadata": {},
   "outputs": [
    {
     "name": "stdout",
     "output_type": "stream",
     "text": [
      "Collecting sklearn\n",
      "  Downloading sklearn-0.0.post11.tar.gz (3.6 kB)\n",
      "  Installing build dependencies: started\n",
      "  Installing build dependencies: finished with status 'done'\n",
      "  Getting requirements to build wheel: started\n",
      "  Getting requirements to build wheel: finished with status 'done'\n",
      "  Preparing metadata (pyproject.toml): started\n",
      "  Preparing metadata (pyproject.toml): finished with status 'done'\n",
      "Building wheels for collected packages: sklearn\n",
      "  Building wheel for sklearn (pyproject.toml): started\n",
      "  Building wheel for sklearn (pyproject.toml): finished with status 'done'\n",
      "  Created wheel for sklearn: filename=sklearn-0.0.post11-py3-none-any.whl size=2979 sha256=a8cc1b3bf8ab39df78f73ce4509937c43c9db50785a0b39fb1a95f35e55466bc\n",
      "  Stored in directory: c:\\users\\dell\\appdata\\local\\pip\\cache\\wheels\\52\\cc\\47\\500a56407c060a5d18bda9aa3ec2daf4721b8448ee4b268840\n",
      "Successfully built sklearn\n",
      "Installing collected packages: sklearn\n",
      "Successfully installed sklearn-0.0.post11\n",
      "Note: you may need to restart the kernel to use updated packages.\n"
     ]
    },
    {
     "name": "stderr",
     "output_type": "stream",
     "text": [
      "\n",
      "[notice] A new release of pip is available: 23.2.1 -> 23.3.1\n",
      "[notice] To update, run: python.exe -m pip install --upgrade pip\n"
     ]
    }
   ],
   "source": [
    "pip install sklearn"
   ]
  },
  {
   "cell_type": "code",
   "execution_count": 128,
   "id": "b302c03b-959e-48da-92c9-2d2021a46344",
   "metadata": {},
   "outputs": [
    {
     "name": "stdout",
     "output_type": "stream",
     "text": [
      "Requirement already satisfied: pip in c:\\python\\lib\\site-packages (23.2.1)\n",
      "Collecting pip\n",
      "  Obtaining dependency information for pip from https://files.pythonhosted.org/packages/47/6a/453160888fab7c6a432a6e25f8afe6256d0d9f2cbd25971021da6491d899/pip-23.3.1-py3-none-any.whl.metadata\n",
      "  Downloading pip-23.3.1-py3-none-any.whl.metadata (3.5 kB)\n",
      "Downloading pip-23.3.1-py3-none-any.whl (2.1 MB)\n",
      "   ---------------------------------------- 0.0/2.1 MB ? eta -:--:--\n",
      "   ---------------------------------------- 0.0/2.1 MB ? eta -:--:--\n",
      "   ---------------------------------------- 0.0/2.1 MB ? eta -:--:--\n",
      "   ---------------------------------------- 0.0/2.1 MB ? eta -:--:--\n",
      "    --------------------------------------- 0.0/2.1 MB 187.9 kB/s eta 0:00:12\n",
      "    --------------------------------------- 0.0/2.1 MB 196.9 kB/s eta 0:00:11\n",
      "   - -------------------------------------- 0.1/2.1 MB 252.2 kB/s eta 0:00:09\n",
      "   -- ------------------------------------- 0.1/2.1 MB 386.4 kB/s eta 0:00:06\n",
      "   -- ------------------------------------- 0.2/2.1 MB 437.1 kB/s eta 0:00:05\n",
      "   --- ------------------------------------ 0.2/2.1 MB 513.4 kB/s eta 0:00:04\n",
      "   ---- ----------------------------------- 0.2/2.1 MB 554.9 kB/s eta 0:00:04\n",
      "   ----- ---------------------------------- 0.3/2.1 MB 612.6 kB/s eta 0:00:03\n",
      "   ------ --------------------------------- 0.3/2.1 MB 634.9 kB/s eta 0:00:03\n",
      "   ------ --------------------------------- 0.4/2.1 MB 655.7 kB/s eta 0:00:03\n",
      "   -------- ------------------------------- 0.4/2.1 MB 708.0 kB/s eta 0:00:03\n",
      "   --------- ------------------------------ 0.5/2.1 MB 733.7 kB/s eta 0:00:03\n",
      "   --------- ------------------------------ 0.5/2.1 MB 730.4 kB/s eta 0:00:03\n",
      "   ---------- ----------------------------- 0.6/2.1 MB 784.4 kB/s eta 0:00:02\n",
      "   ----------- ---------------------------- 0.6/2.1 MB 819.2 kB/s eta 0:00:02\n",
      "   ------------ --------------------------- 0.6/2.1 MB 781.9 kB/s eta 0:00:02\n",
      "   ------------- -------------------------- 0.7/2.1 MB 816.2 kB/s eta 0:00:02\n",
      "   ------------- -------------------------- 0.7/2.1 MB 807.5 kB/s eta 0:00:02\n",
      "   --------------- ------------------------ 0.8/2.1 MB 859.6 kB/s eta 0:00:02\n",
      "   ---------------- ----------------------- 0.8/2.1 MB 867.4 kB/s eta 0:00:02\n",
      "   ---------------- ----------------------- 0.9/2.1 MB 844.2 kB/s eta 0:00:02\n",
      "   ----------------- ---------------------- 0.9/2.1 MB 858.2 kB/s eta 0:00:02\n",
      "   ------------------- -------------------- 1.0/2.1 MB 907.2 kB/s eta 0:00:02\n",
      "   -------------------- ------------------- 1.1/2.1 MB 914.4 kB/s eta 0:00:02\n",
      "   ---------------------- ----------------- 1.2/2.1 MB 954.3 kB/s eta 0:00:01\n",
      "   ----------------------- ---------------- 1.2/2.1 MB 971.4 kB/s eta 0:00:01\n",
      "   ------------------------ --------------- 1.3/2.1 MB 960.7 kB/s eta 0:00:01\n",
      "   -------------------------- ------------- 1.4/2.1 MB 983.2 kB/s eta 0:00:01\n",
      "   --------------------------- ------------ 1.4/2.1 MB 990.5 kB/s eta 0:00:01\n",
      "   --------------------------- ------------ 1.5/2.1 MB 990.5 kB/s eta 0:00:01\n",
      "   ---------------------------- ----------- 1.5/2.1 MB 983.2 kB/s eta 0:00:01\n",
      "   ----------------------------- ---------- 1.6/2.1 MB 983.5 kB/s eta 0:00:01\n",
      "   ------------------------------ --------- 1.6/2.1 MB 989.3 kB/s eta 0:00:01\n",
      "   ------------------------------- -------- 1.7/2.1 MB 998.9 kB/s eta 0:00:01\n",
      "   --------------------------------- ------ 1.8/2.1 MB 1.0 MB/s eta 0:00:01\n",
      "   ----------------------------------- ---- 1.9/2.1 MB 1.0 MB/s eta 0:00:01\n",
      "   ------------------------------------- -- 2.0/2.1 MB 1.1 MB/s eta 0:00:01\n",
      "   -------------------------------------- - 2.0/2.1 MB 1.1 MB/s eta 0:00:01\n",
      "   ---------------------------------------  2.1/2.1 MB 1.1 MB/s eta 0:00:01\n",
      "   ---------------------------------------- 2.1/2.1 MB 1.0 MB/s eta 0:00:00\n",
      "Installing collected packages: pip\n",
      "  Attempting uninstall: pip\n",
      "    Found existing installation: pip 23.2.1\n",
      "    Uninstalling pip-23.2.1:\n",
      "      Successfully uninstalled pip-23.2.1\n",
      "Successfully installed pip-23.3.1\n",
      "Note: you may need to restart the kernel to use updated packages.\n"
     ]
    }
   ],
   "source": [
    "pip install --upgrade pip"
   ]
  },
  {
   "cell_type": "markdown",
   "id": "cd427ba7-5865-43e0-802a-1cb9df5d9a7f",
   "metadata": {},
   "source": [
    "Case Study: Preparing Lobste.rs Stories for Machine Learning"
   ]
  },
  {
   "cell_type": "code",
   "execution_count": 129,
   "id": "37fdf10b-7792-4a08-a8d3-b93d5e5b0007",
   "metadata": {},
   "outputs": [],
   "source": [
    "import pandas as pd\n",
    "import requests\n",
    "from fuzzywuzzy import fuzz\n",
    "from collections import Counter\n"
   ]
  },
  {
   "cell_type": "markdown",
   "id": "9c968801-881a-4733-bdd8-12719c9ead43",
   "metadata": {},
   "source": [
    "If you'd rather read from the API to get the latest, uncomment the details (and add comment to the final line)"
   ]
  },
  {
   "cell_type": "code",
   "execution_count": 133,
   "id": "f7dc7ebb-c27d-406a-bcf9-9a03e545a39e",
   "metadata": {},
   "outputs": [],
   "source": [
    "#resp = requests.get('https://lobste.rs/hottest.json')\n",
    "#stories = pd.read_json(resp.content)\n",
    "#stories = stories.set_index('short_id')\n",
    "\n",
    "stories = pd.read_csv('Automobile_data.csv')"
   ]
  },
  {
   "cell_type": "code",
   "execution_count": 134,
   "id": "079ea62d-2db8-4197-a79e-0a3f3d181086",
   "metadata": {},
   "outputs": [
    {
     "data": {
      "text/html": [
       "<div>\n",
       "<style scoped>\n",
       "    .dataframe tbody tr th:only-of-type {\n",
       "        vertical-align: middle;\n",
       "    }\n",
       "\n",
       "    .dataframe tbody tr th {\n",
       "        vertical-align: top;\n",
       "    }\n",
       "\n",
       "    .dataframe thead th {\n",
       "        text-align: right;\n",
       "    }\n",
       "</style>\n",
       "<table border=\"1\" class=\"dataframe\">\n",
       "  <thead>\n",
       "    <tr style=\"text-align: right;\">\n",
       "      <th></th>\n",
       "      <th>Unnamed: 0</th>\n",
       "      <th>index</th>\n",
       "      <th>company</th>\n",
       "      <th>body-style</th>\n",
       "      <th>wheel-base</th>\n",
       "      <th>length</th>\n",
       "      <th>engine-type</th>\n",
       "      <th>num-of-cylinders</th>\n",
       "      <th>horsepower</th>\n",
       "      <th>average-mileage</th>\n",
       "      <th>price</th>\n",
       "    </tr>\n",
       "  </thead>\n",
       "  <tbody>\n",
       "    <tr>\n",
       "      <th>0</th>\n",
       "      <td>0</td>\n",
       "      <td>0</td>\n",
       "      <td>alfa-romero</td>\n",
       "      <td>convertible</td>\n",
       "      <td>88.6</td>\n",
       "      <td>168.8</td>\n",
       "      <td>dohc</td>\n",
       "      <td>four</td>\n",
       "      <td>111</td>\n",
       "      <td>21</td>\n",
       "      <td>13495.0</td>\n",
       "    </tr>\n",
       "    <tr>\n",
       "      <th>1</th>\n",
       "      <td>1</td>\n",
       "      <td>1</td>\n",
       "      <td>alfa-romero</td>\n",
       "      <td>convertible</td>\n",
       "      <td>88.6</td>\n",
       "      <td>168.8</td>\n",
       "      <td>dohc</td>\n",
       "      <td>four</td>\n",
       "      <td>111</td>\n",
       "      <td>21</td>\n",
       "      <td>16500.0</td>\n",
       "    </tr>\n",
       "    <tr>\n",
       "      <th>2</th>\n",
       "      <td>2</td>\n",
       "      <td>2</td>\n",
       "      <td>alfa-romero</td>\n",
       "      <td>hatchback</td>\n",
       "      <td>94.5</td>\n",
       "      <td>171.2</td>\n",
       "      <td>ohcv</td>\n",
       "      <td>six</td>\n",
       "      <td>154</td>\n",
       "      <td>19</td>\n",
       "      <td>16500.0</td>\n",
       "    </tr>\n",
       "    <tr>\n",
       "      <th>3</th>\n",
       "      <td>3</td>\n",
       "      <td>3</td>\n",
       "      <td>audi</td>\n",
       "      <td>sedan</td>\n",
       "      <td>99.8</td>\n",
       "      <td>176.6</td>\n",
       "      <td>ohc</td>\n",
       "      <td>four</td>\n",
       "      <td>102</td>\n",
       "      <td>24</td>\n",
       "      <td>13950.0</td>\n",
       "    </tr>\n",
       "    <tr>\n",
       "      <th>4</th>\n",
       "      <td>4</td>\n",
       "      <td>4</td>\n",
       "      <td>audi</td>\n",
       "      <td>sedan</td>\n",
       "      <td>99.4</td>\n",
       "      <td>176.6</td>\n",
       "      <td>ohc</td>\n",
       "      <td>five</td>\n",
       "      <td>115</td>\n",
       "      <td>18</td>\n",
       "      <td>17450.0</td>\n",
       "    </tr>\n",
       "  </tbody>\n",
       "</table>\n",
       "</div>"
      ],
      "text/plain": [
       "   Unnamed: 0  index      company   body-style  wheel-base  length  \\\n",
       "0           0      0  alfa-romero  convertible        88.6   168.8   \n",
       "1           1      1  alfa-romero  convertible        88.6   168.8   \n",
       "2           2      2  alfa-romero    hatchback        94.5   171.2   \n",
       "3           3      3         audi        sedan        99.8   176.6   \n",
       "4           4      4         audi        sedan        99.4   176.6   \n",
       "\n",
       "  engine-type num-of-cylinders  horsepower  average-mileage    price  \n",
       "0        dohc             four         111               21  13495.0  \n",
       "1        dohc             four         111               21  16500.0  \n",
       "2        ohcv              six         154               19  16500.0  \n",
       "3         ohc             four         102               24  13950.0  \n",
       "4         ohc             five         115               18  17450.0  "
      ]
     },
     "execution_count": 134,
     "metadata": {},
     "output_type": "execute_result"
    }
   ],
   "source": [
    "stories.head()"
   ]
  },
  {
   "cell_type": "code",
   "execution_count": 135,
   "id": "0fe194ff-737e-499b-a44f-b6062f530bb4",
   "metadata": {},
   "outputs": [
    {
     "data": {
      "text/plain": [
       "Unnamed: 0            int64\n",
       "index                 int64\n",
       "company              object\n",
       "body-style           object\n",
       "wheel-base          float64\n",
       "length              float64\n",
       "engine-type          object\n",
       "num-of-cylinders     object\n",
       "horsepower            int64\n",
       "average-mileage       int64\n",
       "price               float64\n",
       "dtype: object"
      ]
     },
     "execution_count": 135,
     "metadata": {},
     "output_type": "execute_result"
    }
   ],
   "source": [
    "stories.dtypes"
   ]
  },
  {
   "cell_type": "markdown",
   "id": "06cebfae-0996-4c6f-b361-93f259167073",
   "metadata": {},
   "source": [
    "Let's check for nulls"
   ]
  },
  {
   "cell_type": "code",
   "execution_count": 140,
   "id": "acd0ea70-babf-4d1c-9524-4e6b6f94cb67",
   "metadata": {},
   "outputs": [
    {
     "data": {
      "text/plain": [
       "(61, 11)"
      ]
     },
     "execution_count": 140,
     "metadata": {},
     "output_type": "execute_result"
    }
   ],
   "source": [
    "stories.shape"
   ]
  },
  {
   "cell_type": "code",
   "execution_count": null,
   "id": "660350c5-63de-4487-9e7d-f442df8de95a",
   "metadata": {},
   "outputs": [],
   "source": []
  },
  {
   "cell_type": "code",
   "execution_count": 141,
   "id": "30d1a423-21a8-464f-944f-669a45055164",
   "metadata": {},
   "outputs": [
    {
     "data": {
      "text/plain": [
       "(61, 11)"
      ]
     },
     "execution_count": 141,
     "metadata": {},
     "output_type": "execute_result"
    }
   ],
   "source": [
    "\n",
    "stories.dropna(thresh=10, axis=1).shape"
   ]
  },
  {
   "cell_type": "markdown",
   "id": "a257aef7-468d-4528-8c80-69df1f942ed0",
   "metadata": {},
   "source": [
    "Tracking the International Space Station with Dask"
   ]
  },
  {
   "cell_type": "code",
   "execution_count": 144,
   "id": "8140cbaa-b23e-413b-ad94-b8163c07b710",
   "metadata": {},
   "outputs": [],
   "source": [
    "import requests\n",
    "import logging\n",
    "import sys\n",
    "import numpy as np\n",
    "from time import sleep\n",
    "from datetime import datetime\n",
    "from math import radians\n",
    "from dask import delayed\n",
    "from operator import itemgetter"
   ]
  },
  {
   "cell_type": "code",
   "execution_count": 145,
   "id": "59c2e8af-4ad0-4c7e-b3c5-1d063a07aea6",
   "metadata": {},
   "outputs": [],
   "source": [
    "logger = logging.getLogger()\n",
    "logger.setLevel(logging.INFO)"
   ]
  },
  {
   "cell_type": "code",
   "execution_count": 146,
   "id": "d87cc6c4-31c4-4aff-b778-077240b68c3f",
   "metadata": {},
   "outputs": [],
   "source": [
    "def get_lat_long(address):\n",
    "    resp = requests.get(\n",
    "        'https://eu1.locationiq.org/v1/search.php',\n",
    "        params={'key': '92e7ba84cf3465', #Please be kind, you can generate your own for more use here - https://locationiq.org :D\n",
    "                'q': address,\n",
    "                'format': 'json'}\n",
    "    )\n",
    "    if resp.status_code != 200:\n",
    "        print('There was a problem with your request!')\n",
    "        print(resp.content)\n",
    "        return\n",
    "    data = resp.json()[0]\n",
    "    return {\n",
    "        'name': data.get('display_name'),\n",
    "        'lat': float(data.get('lat')),\n",
    "        'long': float(data.get('lon')),\n",
    "    }"
   ]
  },
  {
   "cell_type": "code",
   "execution_count": 147,
   "id": "5f5c3a51-ca64-47df-ad48-e726be2673ae",
   "metadata": {},
   "outputs": [
    {
     "name": "stdout",
     "output_type": "stream",
     "text": [
      "There was a problem with your request!\n",
      "b'{\"error\":\"Invalid key\"}'\n"
     ]
    }
   ],
   "source": [
    "get_lat_long('Berlin, Germany')"
   ]
  },
  {
   "cell_type": "code",
   "execution_count": 148,
   "id": "6fa6648c-bbca-45fd-8070-82fc7a395784",
   "metadata": {},
   "outputs": [
    {
     "name": "stdout",
     "output_type": "stream",
     "text": [
      "There was a problem with your request!\n",
      "b'{\"error\":\"Invalid key\"}'\n",
      "There was a problem with your request!\n",
      "b'{\"error\":\"Invalid key\"}'\n",
      "There was a problem with your request!\n",
      "b'{\"error\":\"Invalid key\"}'\n",
      "There was a problem with your request!\n",
      "b'{\"error\":\"Invalid key\"}'\n",
      "There was a problem with your request!\n",
      "b'{\"error\":\"Invalid key\"}'\n",
      "There was a problem with your request!\n",
      "b'{\"error\":\"Invalid key\"}'\n",
      "There was a problem with your request!\n",
      "b'{\"error\":\"Invalid key\"}'\n",
      "There was a problem with your request!\n",
      "b'{\"error\":\"Invalid key\"}'\n",
      "There was a problem with your request!\n",
      "b'{\"error\":\"Invalid key\"}'\n",
      "There was a problem with your request!\n",
      "b'{\"error\":\"Invalid key\"}'\n"
     ]
    }
   ],
   "source": [
    "locations = []\n",
    "for city in ['Seattle, Washington', 'Miami, Florida', \n",
    "             'Berlin, Germany', 'Singapore', \n",
    "             'Wellington, New Zealand',\n",
    "             'Beirut, Lebanon', 'Beijing, China', 'Nairobi, Kenya',\n",
    "             'Cape Town, South Africa', 'Buenos Aires, Argentina']:\n",
    "    locations.append(get_lat_long(city))\n",
    "    sleep(2)"
   ]
  },
  {
   "cell_type": "code",
   "execution_count": 149,
   "id": "9cc79446-ca6c-44cd-8170-a551b294aaea",
   "metadata": {},
   "outputs": [
    {
     "data": {
      "text/plain": [
       "[None, None, None, None, None, None, None, None, None, None]"
      ]
     },
     "execution_count": 149,
     "metadata": {},
     "output_type": "execute_result"
    }
   ],
   "source": [
    "locations"
   ]
  },
  {
   "cell_type": "code",
   "execution_count": null,
   "id": "950002d9-b587-49aa-a02d-fe770acb400e",
   "metadata": {},
   "outputs": [],
   "source": []
  }
 ],
 "metadata": {
  "kernelspec": {
   "display_name": "Python 3 (ipykernel)",
   "language": "python",
   "name": "python3"
  },
  "language_info": {
   "codemirror_mode": {
    "name": "ipython",
    "version": 3
   },
   "file_extension": ".py",
   "mimetype": "text/x-python",
   "name": "python",
   "nbconvert_exporter": "python",
   "pygments_lexer": "ipython3",
   "version": "3.11.5"
  }
 },
 "nbformat": 4,
 "nbformat_minor": 5
}
